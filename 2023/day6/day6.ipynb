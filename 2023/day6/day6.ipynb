{
 "cells": [
  {
   "cell_type": "code",
   "execution_count": 1,
   "metadata": {},
   "outputs": [],
   "source": [
    "with open('input.txt') as f:\n",
    "    lines = f.read().splitlines()"
   ]
  },
  {
   "cell_type": "code",
   "execution_count": 2,
   "metadata": {},
   "outputs": [],
   "source": [
    "times = list(map(int, lines[0].split()[1:]))\n",
    "distances = list(map(int, lines[1].split()[1:]))"
   ]
  },
  {
   "cell_type": "code",
   "execution_count": 3,
   "metadata": {},
   "outputs": [
    {
     "name": "stdout",
     "output_type": "stream",
     "text": [
      "[45, 98, 83, 73] [295, 1734, 1278, 1210]\n"
     ]
    }
   ],
   "source": [
    "print(times, distances)"
   ]
  },
  {
   "cell_type": "code",
   "execution_count": 4,
   "metadata": {},
   "outputs": [],
   "source": [
    "total = 1\n",
    "\n",
    "for tWin, dWin in zip(times, distances):\n",
    "    \n",
    "    #print(t,dWin)\n",
    "\n",
    "    distance = [h*(tWin-h) for h in range(0,tWin+1)]\n",
    "\n",
    "    win = [d for d in distance if d > dWin]\n",
    "\n",
    "    #print(win)\n",
    "\n",
    "    total = total * len(win)"
   ]
  },
  {
   "cell_type": "code",
   "execution_count": 5,
   "metadata": {},
   "outputs": [
    {
     "name": "stdout",
     "output_type": "stream",
     "text": [
      "1413720\n"
     ]
    }
   ],
   "source": [
    "# Part 1\n",
    "print(total)"
   ]
  },
  {
   "cell_type": "code",
   "execution_count": 6,
   "metadata": {},
   "outputs": [],
   "source": [
    "tWin = int(''.join(lines[0].split()[1:]))\n",
    "dWin = int(''.join(lines[1].split()[1:]))"
   ]
  },
  {
   "cell_type": "code",
   "execution_count": 7,
   "metadata": {},
   "outputs": [],
   "source": [
    "distance = [h*(tWin-h) for h in range(0,tWin+1)]\n",
    "win = [d for d in distance if d > dWin]"
   ]
  },
  {
   "cell_type": "code",
   "execution_count": 8,
   "metadata": {},
   "outputs": [
    {
     "name": "stdout",
     "output_type": "stream",
     "text": [
      "30565288\n"
     ]
    }
   ],
   "source": [
    "# Part 2\n",
    "print(len(win))"
   ]
  }
 ],
 "metadata": {
  "kernelspec": {
   "display_name": "venv",
   "language": "python",
   "name": "python3"
  },
  "language_info": {
   "codemirror_mode": {
    "name": "ipython",
    "version": 3
   },
   "file_extension": ".py",
   "mimetype": "text/x-python",
   "name": "python",
   "nbconvert_exporter": "python",
   "pygments_lexer": "ipython3",
   "version": "3.10.10"
  }
 },
 "nbformat": 4,
 "nbformat_minor": 2
}
