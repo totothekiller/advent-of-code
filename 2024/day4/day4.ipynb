{
 "cells": [
  {
   "cell_type": "code",
   "execution_count": 1,
   "metadata": {},
   "outputs": [],
   "source": [
    "data = []\n",
    "with open('input.txt') as f:\n",
    "    for line in f.read().splitlines():\n",
    "        data.append(list(line))"
   ]
  },
  {
   "cell_type": "code",
   "execution_count": 2,
   "metadata": {},
   "outputs": [],
   "source": [
    "import numpy as np\n",
    "\n",
    "arr = np.array(data)"
   ]
  },
  {
   "cell_type": "code",
   "execution_count": 3,
   "metadata": {},
   "outputs": [],
   "source": [
    "def count_Xmas(input:str) -> int:\n",
    "    return input.count(\"XMAS\") + input[::-1].count(\"XMAS\")"
   ]
  },
  {
   "cell_type": "code",
   "execution_count": 4,
   "metadata": {},
   "outputs": [],
   "source": [
    "horizontal = sum([count_Xmas(''.join(r)) for r in arr])"
   ]
  },
  {
   "cell_type": "code",
   "execution_count": 5,
   "metadata": {},
   "outputs": [],
   "source": [
    "vertical = sum([count_Xmas(''.join(r)) for r in np.transpose(arr)])"
   ]
  },
  {
   "cell_type": "code",
   "execution_count": 6,
   "metadata": {},
   "outputs": [],
   "source": [
    "nbr_line, nbr_col = arr.shape"
   ]
  },
  {
   "cell_type": "code",
   "execution_count": 7,
   "metadata": {},
   "outputs": [],
   "source": [
    "diag = sum([count_Xmas(''.join(np.diag(arr, k=k))) for k in range(-nbr_line+1, nbr_col)])"
   ]
  },
  {
   "cell_type": "code",
   "execution_count": 8,
   "metadata": {},
   "outputs": [],
   "source": [
    "other_diag = sum([count_Xmas(''.join(np.diag(np.fliplr(arr), k=k))) for k in range(-nbr_line+1, nbr_col)])"
   ]
  },
  {
   "cell_type": "code",
   "execution_count": 9,
   "metadata": {},
   "outputs": [
    {
     "data": {
      "text/plain": [
       "2390"
      ]
     },
     "execution_count": 9,
     "metadata": {},
     "output_type": "execute_result"
    }
   ],
   "source": [
    "# Part 1\n",
    "sum([horizontal, vertical, diag, other_diag])"
   ]
  },
  {
   "cell_type": "code",
   "execution_count": 10,
   "metadata": {},
   "outputs": [],
   "source": [
    "def extract_Xmass(arr: np.ndarray, offset_x: int, offset_y: int):\n",
    "\n",
    "    diag1 = arr[offset_x][offset_y] + arr[offset_x + 1][offset_y + 1] + arr[offset_x + 2][offset_y + 2]\n",
    "    diag2 = arr[offset_x][offset_y + 2] + arr[offset_x + 1][offset_y + 1] + arr[offset_x + 2][offset_y]\n",
    "\n",
    "    return (diag1 == \"MAS\" or diag1 == \"SAM\") and (diag2 == \"MAS\" or diag2 == \"SAM\")"
   ]
  },
  {
   "cell_type": "code",
   "execution_count": 11,
   "metadata": {},
   "outputs": [
    {
     "data": {
      "text/plain": [
       "1809"
      ]
     },
     "execution_count": 11,
     "metadata": {},
     "output_type": "execute_result"
    }
   ],
   "source": [
    "# Part 2\n",
    "sum([extract_Xmass(arr, i,j) for i in range(nbr_line-2) for j in range(nbr_col-2)])"
   ]
  }
 ],
 "metadata": {
  "kernelspec": {
   "display_name": "venv",
   "language": "python",
   "name": "python3"
  },
  "language_info": {
   "codemirror_mode": {
    "name": "ipython",
    "version": 3
   },
   "file_extension": ".py",
   "mimetype": "text/x-python",
   "name": "python",
   "nbconvert_exporter": "python",
   "pygments_lexer": "ipython3",
   "version": "3.10.14"
  }
 },
 "nbformat": 4,
 "nbformat_minor": 2
}
