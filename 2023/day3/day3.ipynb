{
 "cells": [
  {
   "cell_type": "code",
   "execution_count": 1,
   "metadata": {},
   "outputs": [],
   "source": [
    "import re\n",
    "from collections import defaultdict"
   ]
  },
  {
   "cell_type": "code",
   "execution_count": 2,
   "metadata": {},
   "outputs": [],
   "source": [
    "with open('input.txt') as f:\n",
    "    lines = f.read().splitlines()"
   ]
  },
  {
   "cell_type": "code",
   "execution_count": 3,
   "metadata": {},
   "outputs": [],
   "source": [
    "total = 0\n",
    "gears = defaultdict(list)\n",
    "\n",
    "for l, line in enumerate(lines):\n",
    "    \n",
    "    matches = re.finditer(r\"(\\d+)\", line)\n",
    "\n",
    "    #print(line)\n",
    "\n",
    "    for matchNum, match in enumerate(matches, start=1):\n",
    "\n",
    "        #print(match.group(0))\n",
    "\n",
    "        for i in range(max(0, l -1), min(l + 2 , len(lines))):\n",
    "            for j in range(max(0, match.start() -1), min(match.end() + 1, len(line))):\n",
    "                #print(lines[i][j], end=\"\")\n",
    "                if lines[i][j] not in \".0123456789\":\n",
    "                    total+= int(match.group(0))\n",
    "\n",
    "                if lines[i][j] == \"*\":\n",
    "                    gears[i,j].append(int(match.group(0)))\n",
    "            #print(\"\")\n",
    "            "
   ]
  },
  {
   "cell_type": "code",
   "execution_count": 4,
   "metadata": {},
   "outputs": [
    {
     "name": "stdout",
     "output_type": "stream",
     "text": [
      "538046\n"
     ]
    }
   ],
   "source": [
    "# Part 1\n",
    "print(total)"
   ]
  },
  {
   "cell_type": "code",
   "execution_count": 5,
   "metadata": {},
   "outputs": [
    {
     "data": {
      "text/plain": [
       "81709807"
      ]
     },
     "execution_count": 5,
     "metadata": {},
     "output_type": "execute_result"
    }
   ],
   "source": [
    "# Part 2\n",
    "sum([v[0]*v[1] for v in gears.values() if len(v) == 2])"
   ]
  }
 ],
 "metadata": {
  "kernelspec": {
   "display_name": "venv",
   "language": "python",
   "name": "python3"
  },
  "language_info": {
   "codemirror_mode": {
    "name": "ipython",
    "version": 3
   },
   "file_extension": ".py",
   "mimetype": "text/x-python",
   "name": "python",
   "nbconvert_exporter": "python",
   "pygments_lexer": "ipython3",
   "version": "3.10.11"
  }
 },
 "nbformat": 4,
 "nbformat_minor": 2
}
