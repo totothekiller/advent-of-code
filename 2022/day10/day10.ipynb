{
 "cells": [
  {
   "cell_type": "code",
   "execution_count": 1,
   "metadata": {},
   "outputs": [],
   "source": [
    "with open('input.txt') as f:\n",
    "    lines = f.read().splitlines()"
   ]
  },
  {
   "cell_type": "code",
   "execution_count": 2,
   "metadata": {},
   "outputs": [],
   "source": [
    "def evaluate_cycle(signals, cycle, register):\n",
    "    if (cycle + 20) % 40 == 0:\n",
    "        #print(f\"Cycle {cycle} : {register}\")\n",
    "        signals.append(cycle*register)"
   ]
  },
  {
   "cell_type": "code",
   "execution_count": 3,
   "metadata": {},
   "outputs": [],
   "source": [
    "cycle :int = 1\n",
    "register :int = 1\n",
    "signals :list[int] = []\n",
    "crt = \"\"\n",
    "\n",
    "for op in lines:\n",
    "\n",
    "    parsing = op.split(' ')\n",
    "\n",
    "    instruction = parsing[0].strip()\n",
    "    \n",
    "    if len(parsing) > 1:\n",
    "        value = int(parsing[1])\n",
    "\n",
    "    #print(instruction)\n",
    "\n",
    "    if instruction == \"noop\":\n",
    "        instruction_cycle = 1\n",
    "        \n",
    "    if instruction.startswith('addx'):\n",
    "        instruction_cycle = 2\n",
    "\n",
    "    # Cycle Loop\n",
    "    for c in range(instruction_cycle):\n",
    "        # signal strengths\n",
    "        evaluate_cycle(signals, cycle, register)\n",
    "        \n",
    "        # CRT\n",
    "        pixel = (cycle - 1) % 40\n",
    "        if register - 1 <= pixel and pixel <= register + 1:\n",
    "            crt+=\"#\"\n",
    "        else:\n",
    "            crt+=\".\"\n",
    "\n",
    "        # Next Cycle\n",
    "        cycle+= 1\n",
    "\n",
    "    # Post Cycle Operation\n",
    "    if instruction.startswith('addx'):\n",
    "        register+= value "
   ]
  },
  {
   "attachments": {},
   "cell_type": "markdown",
   "metadata": {},
   "source": [
    "# Part 1"
   ]
  },
  {
   "cell_type": "code",
   "execution_count": 4,
   "metadata": {},
   "outputs": [
    {
     "data": {
      "text/plain": [
       "12520"
      ]
     },
     "execution_count": 4,
     "metadata": {},
     "output_type": "execute_result"
    }
   ],
   "source": [
    "sum(signals)"
   ]
  },
  {
   "attachments": {},
   "cell_type": "markdown",
   "metadata": {},
   "source": [
    "# Part 2"
   ]
  },
  {
   "cell_type": "code",
   "execution_count": 5,
   "metadata": {},
   "outputs": [],
   "source": [
    "def display(crt):\n",
    "    print(crt[0:40])\n",
    "    print(crt[40:80])\n",
    "    print(crt[80:120])\n",
    "    print(crt[120:160])\n",
    "    print(crt[160:200])\n",
    "    print(crt[200:240])"
   ]
  },
  {
   "cell_type": "code",
   "execution_count": 6,
   "metadata": {},
   "outputs": [
    {
     "name": "stdout",
     "output_type": "stream",
     "text": [
      "####.#..#.###..####.###....##..##..#....\n",
      "#....#..#.#..#....#.#..#....#.#..#.#....\n",
      "###..####.#..#...#..#..#....#.#....#....\n",
      "#....#..#.###...#...###.....#.#.##.#....\n",
      "#....#..#.#....#....#....#..#.#..#.#....\n",
      "####.#..#.#....####.#.....##...###.####.\n"
     ]
    }
   ],
   "source": [
    "display(crt)"
   ]
  }
 ],
 "metadata": {
  "kernelspec": {
   "display_name": "Python 3",
   "language": "python",
   "name": "python3"
  },
  "language_info": {
   "codemirror_mode": {
    "name": "ipython",
    "version": 3
   },
   "file_extension": ".py",
   "mimetype": "text/x-python",
   "name": "python",
   "nbconvert_exporter": "python",
   "pygments_lexer": "ipython3",
   "version": "3.10.9"
  },
  "orig_nbformat": 4,
  "vscode": {
   "interpreter": {
    "hash": "26de051ba29f2982a8de78e945f0abaf191376122a1563185a90213a26c5da77"
   }
  }
 },
 "nbformat": 4,
 "nbformat_minor": 2
}
