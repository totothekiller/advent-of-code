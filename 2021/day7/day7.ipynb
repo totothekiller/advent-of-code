{
 "cells": [
  {
   "cell_type": "markdown",
   "id": "f8ecf57a-e1a5-458f-8188-1610e3278c84",
   "metadata": {},
   "source": [
    "# Part 1"
   ]
  },
  {
   "cell_type": "code",
   "execution_count": 1,
   "id": "2eebf318-cb6e-4edf-90c4-9f779d50bb73",
   "metadata": {},
   "outputs": [],
   "source": [
    "import numpy as np"
   ]
  },
  {
   "cell_type": "code",
   "execution_count": 2,
   "id": "007785ff-3cf3-47b9-ba1f-81dedd4f4434",
   "metadata": {},
   "outputs": [],
   "source": [
    "submarines = np.array(list(map(int, open('input.txt', 'r').readline().split(','))))"
   ]
  },
  {
   "cell_type": "code",
   "execution_count": 3,
   "id": "f3aff3b1-3352-4105-af70-6a208fe1134f",
   "metadata": {},
   "outputs": [],
   "source": [
    "submarines.shape = (1000 , 1)"
   ]
  },
  {
   "cell_type": "code",
   "execution_count": 4,
   "id": "b3e59436-01f3-4bfc-9e18-fd09db46d015",
   "metadata": {},
   "outputs": [],
   "source": [
    "target = np.arange(1000, dtype=np.uint32)"
   ]
  },
  {
   "cell_type": "code",
   "execution_count": 5,
   "id": "914304f0-b9af-48d4-9aa6-d45a7f0e75a1",
   "metadata": {},
   "outputs": [],
   "source": [
    "target.shape = (1 , 1000)"
   ]
  },
  {
   "cell_type": "code",
   "execution_count": 6,
   "id": "96a433a2-0daa-4475-bd39-f23024473732",
   "metadata": {},
   "outputs": [],
   "source": [
    "one = np.ones((1000, 1) , dtype=np.uint32)"
   ]
  },
  {
   "cell_type": "code",
   "execution_count": 7,
   "id": "d7b28a98-a4ac-4825-aaef-60a1b9b72685",
   "metadata": {},
   "outputs": [],
   "source": [
    "distances = abs(submarines - (one * target))"
   ]
  },
  {
   "cell_type": "code",
   "execution_count": 8,
   "id": "9926e05e-61f4-4da2-8f09-b254b3a02a92",
   "metadata": {},
   "outputs": [
    {
     "data": {
      "text/plain": [
       "344735"
      ]
     },
     "execution_count": 8,
     "metadata": {},
     "output_type": "execute_result"
    }
   ],
   "source": [
    "distances.sum(axis=0).min()"
   ]
  },
  {
   "cell_type": "markdown",
   "id": "22633101-f966-4efa-be7c-e6a3d89bd698",
   "metadata": {},
   "source": [
    "# Part 2"
   ]
  },
  {
   "cell_type": "code",
   "execution_count": 9,
   "id": "1a0df5d3-973f-409d-b04a-8ad6a8a86aa5",
   "metadata": {},
   "outputs": [],
   "source": [
    "def conso(n): \n",
    "    return (n*(n+1))//2 "
   ]
  },
  {
   "cell_type": "code",
   "execution_count": 10,
   "id": "470595b2-ada3-47ab-a264-a96a035826ce",
   "metadata": {},
   "outputs": [],
   "source": [
    "conso2 = conso(distances)"
   ]
  },
  {
   "cell_type": "code",
   "execution_count": 11,
   "id": "4c7d033d-58d1-4fde-9a02-ebf1a07b97d0",
   "metadata": {},
   "outputs": [],
   "source": [
    "minIndex = conso2.mean(axis=0).argmin()"
   ]
  },
  {
   "cell_type": "code",
   "execution_count": 12,
   "id": "0f8944f1-7bea-4728-a5e0-b2ff9883efc3",
   "metadata": {},
   "outputs": [
    {
     "data": {
      "text/plain": [
       "96798233"
      ]
     },
     "execution_count": 12,
     "metadata": {},
     "output_type": "execute_result"
    }
   ],
   "source": [
    "conso2.sum(axis=0).min()"
   ]
  }
 ],
 "metadata": {
  "kernelspec": {
   "display_name": "Python 3 (ipykernel)",
   "language": "python",
   "name": "python3"
  },
  "language_info": {
   "codemirror_mode": {
    "name": "ipython",
    "version": 3
   },
   "file_extension": ".py",
   "mimetype": "text/x-python",
   "name": "python",
   "nbconvert_exporter": "python",
   "pygments_lexer": "ipython3",
   "version": "3.8.10"
  }
 },
 "nbformat": 4,
 "nbformat_minor": 5
}
