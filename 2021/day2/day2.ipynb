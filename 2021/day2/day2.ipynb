{
 "cells": [
  {
   "cell_type": "markdown",
   "id": "268e6f18-ef94-4744-b0b5-7cb32cd9801a",
   "metadata": {},
   "source": [
    "# Part 1"
   ]
  },
  {
   "cell_type": "code",
   "execution_count": 1,
   "id": "9aef8971-937b-418d-8235-f36a69aad2ff",
   "metadata": {},
   "outputs": [],
   "source": [
    "import pandas as pd"
   ]
  },
  {
   "cell_type": "code",
   "execution_count": 2,
   "id": "5096d11c-d446-4bc8-a7f8-b00e9e711e2e",
   "metadata": {},
   "outputs": [],
   "source": [
    "df = pd.read_csv('input.txt', header=None, names=[\"cmd\", \"value\"], sep=\" \")"
   ]
  },
  {
   "cell_type": "code",
   "execution_count": 3,
   "id": "76fa93f2-092b-4cb3-9e93-b8d4ba62e45f",
   "metadata": {},
   "outputs": [],
   "source": [
    "def parseDepth(row):\n",
    "    if row['cmd'] == 'up':\n",
    "        return row['value']\n",
    "    if row['cmd'] == 'down':\n",
    "        return -row['value']\n",
    "    return 0\n",
    "\n",
    "def parseHorizontal(row):\n",
    "    if row['cmd'] == 'forward':\n",
    "        return row['value']\n",
    "    return 0"
   ]
  },
  {
   "cell_type": "code",
   "execution_count": 4,
   "id": "692eadab-894e-47a7-b94b-2516d8fc03ba",
   "metadata": {},
   "outputs": [],
   "source": [
    "df['depth'] = df.apply(parseDepth, axis=1)"
   ]
  },
  {
   "cell_type": "code",
   "execution_count": 5,
   "id": "a5e7337e-3f67-478a-8d93-708272909e77",
   "metadata": {},
   "outputs": [],
   "source": [
    "df['hori'] = df.apply(parseHorizontal, axis=1)"
   ]
  },
  {
   "cell_type": "code",
   "execution_count": 6,
   "id": "3217dc9d-e1cf-4ab5-a928-1181875b19b1",
   "metadata": {},
   "outputs": [
    {
     "data": {
      "text/plain": [
       "1484118"
      ]
     },
     "execution_count": 6,
     "metadata": {},
     "output_type": "execute_result"
    }
   ],
   "source": [
    "-df.sum()['depth']*df.sum()['hori']"
   ]
  },
  {
   "cell_type": "markdown",
   "id": "2c7a63fd-2683-4a6a-b749-75d1302029cf",
   "metadata": {},
   "source": [
    "# Part 2"
   ]
  },
  {
   "cell_type": "code",
   "execution_count": 7,
   "id": "092b29fb-f8b9-40a2-94b6-178b631f449e",
   "metadata": {},
   "outputs": [],
   "source": [
    "df = pd.read_csv('input.txt', header=None, names=[\"cmd\", \"value\"], sep=\" \")"
   ]
  },
  {
   "cell_type": "code",
   "execution_count": 8,
   "id": "b8e0099d-8b20-4b46-b763-2f5375bdcd83",
   "metadata": {},
   "outputs": [],
   "source": [
    "def parseAim(row):\n",
    "    if row['cmd'] == 'up':\n",
    "        return -row['value']\n",
    "    if row['cmd'] == 'down':\n",
    "        return row['value']\n",
    "    return 0\n",
    "def parseHorizontal(row):\n",
    "    if row['cmd'] == 'forward':\n",
    "        return row['value']\n",
    "    return 0\n",
    "def parseDepth(row):\n",
    "    if row['cmd'] == 'forward':\n",
    "        return row['value']*row['aim']\n",
    "    return 0"
   ]
  },
  {
   "cell_type": "code",
   "execution_count": 9,
   "id": "255c331f-4bb6-42f2-a374-efc7ab9b9c28",
   "metadata": {},
   "outputs": [],
   "source": [
    "df['aim'] = df.apply(parseAim, axis=1).cumsum()"
   ]
  },
  {
   "cell_type": "code",
   "execution_count": 10,
   "id": "e0702cee-3333-4c85-80f3-3b4e8cf4fcc3",
   "metadata": {},
   "outputs": [],
   "source": [
    "df['hori'] = df.apply(parseHorizontal, axis=1)"
   ]
  },
  {
   "cell_type": "code",
   "execution_count": 11,
   "id": "af889b14-ab9f-4084-b401-6f1e11244026",
   "metadata": {},
   "outputs": [],
   "source": [
    "df['depth'] = df.apply(parseDepth, axis=1)"
   ]
  },
  {
   "cell_type": "code",
   "execution_count": 12,
   "id": "f13abc2c-5c10-45aa-aa72-5a76a90c8118",
   "metadata": {},
   "outputs": [
    {
     "data": {
      "text/plain": [
       "1463827010"
      ]
     },
     "execution_count": 12,
     "metadata": {},
     "output_type": "execute_result"
    }
   ],
   "source": [
    "df.sum()['depth']*df.sum()['hori']"
   ]
  }
 ],
 "metadata": {
  "kernelspec": {
   "display_name": "Python 3 (ipykernel)",
   "language": "python",
   "name": "python3"
  },
  "language_info": {
   "codemirror_mode": {
    "name": "ipython",
    "version": 3
   },
   "file_extension": ".py",
   "mimetype": "text/x-python",
   "name": "python",
   "nbconvert_exporter": "python",
   "pygments_lexer": "ipython3",
   "version": "3.8.10"
  }
 },
 "nbformat": 4,
 "nbformat_minor": 5
}
