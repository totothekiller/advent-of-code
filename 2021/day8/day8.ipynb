{
 "cells": [
  {
   "cell_type": "code",
   "execution_count": 1,
   "id": "11944f89-17c7-44a3-84ae-34dec8b47525",
   "metadata": {},
   "outputs": [],
   "source": [
    "import numpy as np"
   ]
  },
  {
   "cell_type": "code",
   "execution_count": 2,
   "id": "7e1f77c0-72bd-4466-a8ef-40a6878cfbaa",
   "metadata": {},
   "outputs": [],
   "source": [
    "# digit 0 => 6 segments   abc-efg\n",
    "# digit 1 => 2 segments   --c--f-\n",
    "# digit 2 => 5 segments   a-cde-g\n",
    "# digit 3 => 5 segements  a-cd-fg\n",
    "# digit 4 => 4 segments   -dcd-f-\n",
    "# digit 5 => 5 segments   ab-d-fg\n",
    "# digit 6 => 6 segments   ab-defg\n",
    "# digit 7 => 3 segments   a-c--f-\n",
    "# digit 8 => 7 segments   abcdefg\n",
    "# digit 9 => 6 segments   abcd-fg\n",
    "\n",
    "\n",
    "# reverse\n",
    "# 2 segments => Digit 1\n",
    "# 3 segments => Digit 7\n",
    "# 4 segments => Digit 4\n",
    "# 5 segments => Digit 2, 3, 5\n",
    "# 6 segments => Digit 0, 6, 9\n",
    "# 7 segments => Digit 8\n",
    "\n",
    "# 2: a-cde-g\n",
    "# 3: a-cd-fg => digit 1\n",
    "# 5: ab-d-fg => digit 9\n",
    "\n",
    "# 0: abc-efg\n",
    "# 6: ab-defg => digit 5\n",
    "# 9: abcd-fg => digit 3\n",
    "\n",
    "# => 1,7,4,8,3,9,2,5,0,6"
   ]
  },
  {
   "cell_type": "code",
   "execution_count": 3,
   "id": "93f97d16-8c39-4e45-9512-c22f9436bcc4",
   "metadata": {},
   "outputs": [],
   "source": [
    "def findDigit1748(segments):\n",
    "    seglen = list(map(len, segments))\n",
    "    mapping[1] = segments[seglen.index(2)]\n",
    "    mapping[7] = segments[seglen.index(3)]\n",
    "    mapping[4] = segments[seglen.index(4)]\n",
    "    mapping[8] = segments[seglen.index(7)]\n",
    "\n",
    "def findDigit3(segments):\n",
    "    len5 = [s for s in segments if len(s) == 5]\n",
    "    mapping[3] = [s for s in len5 if mapping[1].issubset(s)][0]\n",
    "    \n",
    "def findDigit9(segments):\n",
    "    len6 = [s for s in segments if len(s) == 6]\n",
    "    mapping[9] = [s for s in len6 if mapping[3].issubset(s)][0]\n",
    "    \n",
    "def findDigit25(segments):\n",
    "    len5 = [s for s in segments if len(s) == 5]\n",
    "    mapping[2] = [s for s in len5 if not s.issubset(mapping[9])][0]\n",
    "    mapping[5] = [s for s in len5 if s != mapping[3] and s != mapping[2]][0]\n",
    "    \n",
    "def findDigit06(segments):\n",
    "    len6 = [s for s in segments if len(s) == 6]\n",
    "    mapping[0] = [s for s in len6 if not mapping[5].issubset(s)][0]\n",
    "    mapping[6] = [s for s in len6 if s != mapping[9] and s != mapping[0]][0]"
   ]
  },
  {
   "cell_type": "code",
   "execution_count": 4,
   "id": "cbd736f7-96fd-48f4-8fe5-37414d07b89b",
   "metadata": {},
   "outputs": [],
   "source": [
    "def decode(digit):\n",
    "    return mapping.index(digit)"
   ]
  },
  {
   "cell_type": "code",
   "execution_count": 5,
   "id": "58be891f-8af9-4ba9-8d03-dd49d18e02f8",
   "metadata": {},
   "outputs": [],
   "source": [
    "data = [l.split('|') for l in open('input.txt', 'r').readlines()]"
   ]
  },
  {
   "cell_type": "code",
   "execution_count": 6,
   "id": "1966e656-3e50-4e25-b86a-24db7d9e245b",
   "metadata": {},
   "outputs": [],
   "source": [
    "output = []\n",
    "\n",
    "for d in data:\n",
    "    mapping = [None]*10\n",
    "    \n",
    "    segments = list(map(set, d[0].split()))\n",
    "    todecode = list(map(set, d[1].split()))\n",
    "    \n",
    "    findDigit1748(segments)\n",
    "    findDigit3(segments)\n",
    "    findDigit9(segments)\n",
    "    findDigit25(segments)\n",
    "    findDigit06(segments)\n",
    "        \n",
    "    value = list(map(decode, todecode))\n",
    "    output.append(value)"
   ]
  },
  {
   "cell_type": "code",
   "execution_count": 7,
   "id": "b5a6cc2e-e92e-41f9-a31e-5c48d7530ed4",
   "metadata": {},
   "outputs": [],
   "source": [
    "t = np.array(output)"
   ]
  },
  {
   "cell_type": "markdown",
   "id": "750b2990-ad57-4e39-b6e0-83250c7184c7",
   "metadata": {
    "tags": []
   },
   "source": [
    "# Part 1"
   ]
  },
  {
   "cell_type": "code",
   "execution_count": 8,
   "id": "bea3c749-92ee-496d-aac4-701e0a3c134b",
   "metadata": {},
   "outputs": [
    {
     "data": {
      "text/plain": [
       "272"
      ]
     },
     "execution_count": 8,
     "metadata": {},
     "output_type": "execute_result"
    }
   ],
   "source": [
    "(t == 1).sum() + (t == 4).sum() + (t == 7).sum() + (t == 8).sum()"
   ]
  },
  {
   "cell_type": "markdown",
   "id": "0e0fe8b7-c276-45a9-8a3c-0f803255529e",
   "metadata": {},
   "source": [
    "# Part 2"
   ]
  },
  {
   "cell_type": "code",
   "execution_count": 9,
   "id": "96a87242-4df7-47de-9bbf-f8c96eb95936",
   "metadata": {},
   "outputs": [],
   "source": [
    "def magic(number):\n",
    "    return int(''.join(str(i) for i in number))"
   ]
  },
  {
   "cell_type": "code",
   "execution_count": 10,
   "id": "cbd943c6-43cc-4c40-b4a9-021b076a3621",
   "metadata": {},
   "outputs": [
    {
     "data": {
      "text/plain": [
       "1007675"
      ]
     },
     "execution_count": 10,
     "metadata": {},
     "output_type": "execute_result"
    }
   ],
   "source": [
    "np.apply_along_axis(magic, 1, t).sum()"
   ]
  }
 ],
 "metadata": {
  "kernelspec": {
   "display_name": "Python 3 (ipykernel)",
   "language": "python",
   "name": "python3"
  },
  "language_info": {
   "codemirror_mode": {
    "name": "ipython",
    "version": 3
   },
   "file_extension": ".py",
   "mimetype": "text/x-python",
   "name": "python",
   "nbconvert_exporter": "python",
   "pygments_lexer": "ipython3",
   "version": "3.8.10"
  }
 },
 "nbformat": 4,
 "nbformat_minor": 5
}
