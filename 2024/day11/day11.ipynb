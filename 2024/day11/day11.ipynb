{
 "cells": [
  {
   "cell_type": "code",
   "execution_count": 1,
   "metadata": {},
   "outputs": [],
   "source": [
    "with open('input.txt') as f:\n",
    "    stones = list(map(int, f.read().split(' ')))"
   ]
  },
  {
   "cell_type": "code",
   "execution_count": 2,
   "metadata": {},
   "outputs": [],
   "source": [
    "def blink(stones: list[int]) -> list[int]:\n",
    "\n",
    "    output = []\n",
    "\n",
    "    for stone in stones:\n",
    "        \n",
    "        if stone == 0:\n",
    "            output.append(1)\n",
    "        elif len(str(stone)) % 2 == 0:\n",
    "            text = str(stone)\n",
    "            half = int(len(text) / 2)\n",
    "            output.append(int(text[:half]))\n",
    "            output.append(int(text[half:]))\n",
    "        else:\n",
    "            output.append(2024*stone)\n",
    "\n",
    "    return output"
   ]
  },
  {
   "cell_type": "code",
   "execution_count": 3,
   "metadata": {},
   "outputs": [],
   "source": [
    "def blinker(stones: list[int], count:int) -> list[int]:\n",
    "    current = stones\n",
    "    for i in range(count):\n",
    "        #print(i)\n",
    "        current = blink(current)\n",
    "        #print(len(current), max(current))\n",
    "    return current"
   ]
  },
  {
   "cell_type": "code",
   "execution_count": 4,
   "metadata": {},
   "outputs": [
    {
     "data": {
      "text/plain": [
       "209412"
      ]
     },
     "execution_count": 4,
     "metadata": {},
     "output_type": "execute_result"
    }
   ],
   "source": [
    "# Part 1\n",
    "len(blinker(stones, 25))"
   ]
  },
  {
   "cell_type": "code",
   "execution_count": 5,
   "metadata": {},
   "outputs": [],
   "source": [
    "from functools import cache\n",
    "\n",
    "\n",
    "@cache\n",
    "def blink2(stone: int, count:int) -> int:\n",
    "\n",
    "    if count == 0:\n",
    "        return 1\n",
    "\n",
    "    output = 0\n",
    "        \n",
    "    if stone == 0:\n",
    "        output += blink2(1, count - 1)\n",
    "    elif len(str(stone)) % 2 == 0:\n",
    "        text = str(stone)\n",
    "        half = int(len(text) / 2)\n",
    "        output+=blink2(int(text[:half]), count - 1)\n",
    "        output+=blink2(int(text[half:]), count - 1)\n",
    "    else:\n",
    "        output+=blink2(2024*stone, count - 1)\n",
    "\n",
    "    return output"
   ]
  },
  {
   "cell_type": "code",
   "execution_count": 6,
   "metadata": {},
   "outputs": [
    {
     "data": {
      "text/plain": [
       "248967696501656"
      ]
     },
     "execution_count": 6,
     "metadata": {},
     "output_type": "execute_result"
    }
   ],
   "source": [
    "# Part 2\n",
    "sum([blink2(s,75) for s in stones])"
   ]
  }
 ],
 "metadata": {
  "kernelspec": {
   "display_name": "venv",
   "language": "python",
   "name": "python3"
  },
  "language_info": {
   "codemirror_mode": {
    "name": "ipython",
    "version": 3
   },
   "file_extension": ".py",
   "mimetype": "text/x-python",
   "name": "python",
   "nbconvert_exporter": "python",
   "pygments_lexer": "ipython3",
   "version": "3.10.14"
  }
 },
 "nbformat": 4,
 "nbformat_minor": 2
}
