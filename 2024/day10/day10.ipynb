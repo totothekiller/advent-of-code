{
 "cells": [
  {
   "cell_type": "code",
   "execution_count": 1,
   "metadata": {},
   "outputs": [],
   "source": [
    "data = []\n",
    "with open('input.txt') as f:\n",
    "    for line in f.read().splitlines():\n",
    "        data.append(list(line))"
   ]
  },
  {
   "cell_type": "code",
   "execution_count": 2,
   "metadata": {},
   "outputs": [],
   "source": [
    "import numpy as np\n",
    "\n",
    "map = np.array(data).astype(int)"
   ]
  },
  {
   "cell_type": "code",
   "execution_count": 3,
   "metadata": {},
   "outputs": [],
   "source": [
    "def move(map:np.ndarray, trail: list[tuple[int, int]]):\n",
    "    \n",
    "    current_point_x, current_point_y = trail[-1]\n",
    "    current_elevation = map[current_point_x][current_point_y]\n",
    "    target_elevation = current_elevation + 1\n",
    "\n",
    "    # Check End\n",
    "    if current_elevation == 9:\n",
    "        return [trail]\n",
    "\n",
    "    max_x, max_y = map.shape\n",
    "    \n",
    "    output = []\n",
    "\n",
    "    # Move North ?\n",
    "    if current_point_x > 0 and map[current_point_x - 1][current_point_y] == target_elevation:\n",
    "        output.extend(move(map, trail + [(current_point_x - 1, current_point_y)]))\n",
    "\n",
    "    # Move South ?\n",
    "    if current_point_x < max_x - 1 and map[current_point_x + 1][current_point_y] == target_elevation:\n",
    "        output.extend(move(map, trail + [(current_point_x + 1, current_point_y)]))\n",
    "\n",
    "    # Move West ?\n",
    "    if current_point_y > 0 and map[current_point_x][current_point_y - 1] == target_elevation:\n",
    "        output.extend(move(map, trail + [(current_point_x, current_point_y - 1)]))\n",
    "\n",
    "    # Move Est ?\n",
    "    if current_point_y < max_y - 1 and map[current_point_x][current_point_y + 1] == target_elevation:\n",
    "        output.extend(move(map, trail + [(current_point_x, current_point_y + 1)]))\n",
    "\n",
    "\n",
    "    return output\n"
   ]
  },
  {
   "cell_type": "code",
   "execution_count": 4,
   "metadata": {},
   "outputs": [],
   "source": [
    "trailheads_x, trailheads_y = np.where(map == 0)"
   ]
  },
  {
   "cell_type": "code",
   "execution_count": 5,
   "metadata": {},
   "outputs": [
    {
     "data": {
      "text/plain": [
       "652"
      ]
     },
     "execution_count": 5,
     "metadata": {},
     "output_type": "execute_result"
    }
   ],
   "source": [
    "# Part 1\n",
    "sum([len({p[-1] for p in move(map, [start])}) for start in zip(trailheads_x, trailheads_y)])"
   ]
  },
  {
   "cell_type": "code",
   "execution_count": 6,
   "metadata": {},
   "outputs": [
    {
     "data": {
      "text/plain": [
       "1432"
      ]
     },
     "execution_count": 6,
     "metadata": {},
     "output_type": "execute_result"
    }
   ],
   "source": [
    "# Part 2\n",
    "sum([len(move(map, [start])) for start in zip(trailheads_x, trailheads_y)])"
   ]
  }
 ],
 "metadata": {
  "kernelspec": {
   "display_name": "venv",
   "language": "python",
   "name": "python3"
  },
  "language_info": {
   "codemirror_mode": {
    "name": "ipython",
    "version": 3
   },
   "file_extension": ".py",
   "mimetype": "text/x-python",
   "name": "python",
   "nbconvert_exporter": "python",
   "pygments_lexer": "ipython3",
   "version": "3.10.14"
  }
 },
 "nbformat": 4,
 "nbformat_minor": 2
}
