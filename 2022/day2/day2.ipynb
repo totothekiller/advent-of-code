{
 "cells": [
  {
   "cell_type": "code",
   "execution_count": 13,
   "metadata": {},
   "outputs": [],
   "source": [
    "def computeScore(opponent, me):\n",
    "\n",
    "    score = 0\n",
    "\n",
    "    # Score - Shape\n",
    "    match me: \n",
    "        # Rock\n",
    "        case 'A':\n",
    "            score += 1\n",
    "        # Paper\n",
    "        case 'B':\n",
    "            score += 2\n",
    "        # Scissors\n",
    "        case 'C':\n",
    "            score += 3\n",
    "    \n",
    "    # Score - Outcome \n",
    "    if opponent == me:\n",
    "        # Draw\n",
    "        score += 3\n",
    "    elif opponent == 'A' and me == 'B':\n",
    "        # Win\n",
    "        score += 6\n",
    "    elif opponent == 'A' and me == 'C':\n",
    "        # Lost\n",
    "        pass\n",
    "    elif opponent == 'B' and me == 'A':\n",
    "        # Lost\n",
    "        pass\n",
    "    elif opponent == 'B' and me == 'C':    \n",
    "        # Win\n",
    "        score += 6\n",
    "    elif opponent == 'C' and me == 'A':\n",
    "        # Win\n",
    "        score += 6\n",
    "    elif opponent == 'C' and me == 'B':     \n",
    "        # Lost\n",
    "        pass\n",
    "\n",
    "    return score"
   ]
  },
  {
   "cell_type": "markdown",
   "metadata": {},
   "source": [
    "# Part 1"
   ]
  },
  {
   "cell_type": "code",
   "execution_count": 14,
   "metadata": {},
   "outputs": [
    {
     "name": "stdout",
     "output_type": "stream",
     "text": [
      "13221\n"
     ]
    }
   ],
   "source": [
    "score = 0\n",
    "\n",
    "with open('input.txt') as f:\n",
    "    for line in f.read().splitlines():\n",
    "\n",
    "        round = line.split(' ')\n",
    "\n",
    "        # Game\n",
    "        opponent = round[0]\n",
    "        me = chr(ord(round[1]) - 23)\n",
    "\n",
    "        # Score\n",
    "        score += computeScore(opponent, me)\n",
    "\n",
    "print(score)\n",
    "\n"
   ]
  },
  {
   "cell_type": "markdown",
   "metadata": {},
   "source": [
    "# Part 2"
   ]
  },
  {
   "cell_type": "code",
   "execution_count": 18,
   "metadata": {},
   "outputs": [
    {
     "name": "stdout",
     "output_type": "stream",
     "text": [
      "12\n"
     ]
    }
   ],
   "source": [
    "score = 0\n",
    "\n",
    "with open('input.txt') as f:\n",
    "    for line in f.read().splitlines():\n",
    "\n",
    "        round = line.split(' ')\n",
    "\n",
    "        # Game\n",
    "        opponent = round[0]\n",
    "        end = round[1]\n",
    "        me = None\n",
    "\n",
    "        # Draw\n",
    "        if end == 'Y':\n",
    "            me = opponent\n",
    "        # Loose\n",
    "        elif opponent == 'A' and end == 'X':\n",
    "            me = 'C'\n",
    "        elif opponent == 'B' and end == 'X':\n",
    "            me = 'A'\n",
    "        elif opponent == 'C' and end == 'X':\n",
    "            me = 'B'\n",
    "        # Win\n",
    "        elif opponent == 'A' and end == 'Z':\n",
    "            me = 'B'\n",
    "        elif opponent == 'B' and end == 'Z':\n",
    "            me = 'C'\n",
    "        elif opponent == 'C' and end == 'Z':\n",
    "            me = 'A'\n",
    "\n",
    "        # Score\n",
    "        score += computeScore(opponent, me)\n",
    "\n",
    "print(score)\n",
    "\n"
   ]
  }
 ],
 "metadata": {
  "kernelspec": {
   "display_name": "Python 3.10.8 ('venv': venv)",
   "language": "python",
   "name": "python3"
  },
  "language_info": {
   "codemirror_mode": {
    "name": "ipython",
    "version": 3
   },
   "file_extension": ".py",
   "mimetype": "text/x-python",
   "name": "python",
   "nbconvert_exporter": "python",
   "pygments_lexer": "ipython3",
   "version": "3.10.8"
  },
  "orig_nbformat": 4,
  "vscode": {
   "interpreter": {
    "hash": "24514c4a6b0215e74fd7df0a9fd7602948554967e3c8aeeda7e531f979f4bcc8"
   }
  }
 },
 "nbformat": 4,
 "nbformat_minor": 2
}
