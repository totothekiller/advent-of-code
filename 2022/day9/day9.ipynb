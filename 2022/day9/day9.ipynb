{
 "cells": [
  {
   "cell_type": "code",
   "execution_count": 1,
   "metadata": {},
   "outputs": [],
   "source": [
    "import numpy as np"
   ]
  },
  {
   "cell_type": "code",
   "execution_count": 2,
   "metadata": {},
   "outputs": [],
   "source": [
    "with open('input.txt') as f:\n",
    "    lines = f.read().splitlines()"
   ]
  },
  {
   "cell_type": "code",
   "execution_count": 3,
   "metadata": {},
   "outputs": [],
   "source": [
    "def follow(head, tail):\n",
    "    xh, yh = head\n",
    "    xt, yt = tail \n",
    "\n",
    "    # Do nothing if too close\n",
    "    if abs(xt - xh) <= 1 and abs(yt - yh) <= 1:\n",
    "        return tail\n",
    "\n",
    "    # Follow\n",
    "    return (xt + np.sign(xh - xt), yt + np.sign(yh - yt))"
   ]
  },
  {
   "cell_type": "code",
   "execution_count": 4,
   "metadata": {},
   "outputs": [],
   "source": [
    "def move_head(head, direction):\n",
    "        if direction == 'R':\n",
    "            return (head[0] + 1, head[1])\n",
    "        elif direction == 'L':\n",
    "            return (head[0] - 1, head[1])\n",
    "        elif direction == 'U':\n",
    "            return (head[0], head[1] + 1)\n",
    "        elif direction == 'D':\n",
    "            return (head[0], head[1] - 1)"
   ]
  },
  {
   "cell_type": "code",
   "execution_count": 5,
   "metadata": {},
   "outputs": [],
   "source": [
    "head = (0,0)\n",
    "tail = (0,0)\n",
    "visited = [tail]\n",
    "\n",
    "for line in lines:\n",
    "    op = line.split(' ')\n",
    "\n",
    "    direction = op[0]\n",
    "    move = int(op[1])\n",
    "\n",
    "    for _ in range(move):\n",
    "        # Move Head\n",
    "        head = move_head(head, direction)\n",
    "        # Folow \n",
    "        tail = follow(head, tail)\n",
    "        # Keep Track\n",
    "        visited.append(tail)\n"
   ]
  },
  {
   "cell_type": "markdown",
   "metadata": {},
   "source": [
    "# Part 1"
   ]
  },
  {
   "cell_type": "code",
   "execution_count": 6,
   "metadata": {},
   "outputs": [
    {
     "data": {
      "text/plain": [
       "6384"
      ]
     },
     "execution_count": 6,
     "metadata": {},
     "output_type": "execute_result"
    }
   ],
   "source": [
    "len(set(visited))"
   ]
  },
  {
   "cell_type": "markdown",
   "metadata": {},
   "source": [
    "# Part 2"
   ]
  },
  {
   "cell_type": "code",
   "execution_count": 7,
   "metadata": {},
   "outputs": [],
   "source": [
    "rope = [(0,0)] * 10\n",
    "visited = [rope[-1]]\n",
    "\n",
    "for line in lines:\n",
    "    op = line.split(' ')\n",
    "\n",
    "    direction = op[0]\n",
    "    move = int(op[1])\n",
    "\n",
    "    for _ in range(move):\n",
    "        # Move Head\n",
    "        rope[0] = move_head(rope[0], direction)\n",
    "        # Folow\n",
    "        for k in range(1, len(rope)):\n",
    "            rope[k] = follow(rope[k-1], rope[k])\n",
    "        # Keep track\n",
    "        visited.append(rope[-1])"
   ]
  },
  {
   "cell_type": "code",
   "execution_count": 8,
   "metadata": {},
   "outputs": [
    {
     "data": {
      "text/plain": [
       "2734"
      ]
     },
     "execution_count": 8,
     "metadata": {},
     "output_type": "execute_result"
    }
   ],
   "source": [
    "len(set(visited))"
   ]
  }
 ],
 "metadata": {
  "kernelspec": {
   "display_name": "Python 3.10.8 ('venv': venv)",
   "language": "python",
   "name": "python3"
  },
  "language_info": {
   "codemirror_mode": {
    "name": "ipython",
    "version": 3
   },
   "file_extension": ".py",
   "mimetype": "text/x-python",
   "name": "python",
   "nbconvert_exporter": "python",
   "pygments_lexer": "ipython3",
   "version": "3.10.8"
  },
  "orig_nbformat": 4,
  "vscode": {
   "interpreter": {
    "hash": "24514c4a6b0215e74fd7df0a9fd7602948554967e3c8aeeda7e531f979f4bcc8"
   }
  }
 },
 "nbformat": 4,
 "nbformat_minor": 2
}
