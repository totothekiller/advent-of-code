{
 "cells": [
  {
   "cell_type": "markdown",
   "id": "f867c759-2f64-4990-b667-b9230da82d1b",
   "metadata": {},
   "source": [
    "# Part 1"
   ]
  },
  {
   "cell_type": "code",
   "execution_count": 1,
   "id": "d8b21e23-e66b-4a9b-82a0-11ae678aa365",
   "metadata": {},
   "outputs": [],
   "source": [
    "import pandas as pd"
   ]
  },
  {
   "cell_type": "code",
   "execution_count": 2,
   "id": "698b0407-aed6-4ded-b6b3-8a9796ff4b23",
   "metadata": {},
   "outputs": [],
   "source": [
    "df = pd.read_csv('input.txt', header=None, names=[\"depth\"])"
   ]
  },
  {
   "cell_type": "code",
   "execution_count": 3,
   "id": "894b0c18-2c60-4ae0-94d0-bf86ff0a6c13",
   "metadata": {},
   "outputs": [],
   "source": [
    "df[\"dif\"] = df.diff()"
   ]
  },
  {
   "cell_type": "code",
   "execution_count": 4,
   "id": "f90d4a03-a705-4d5e-a849-92bdd6ad46c5",
   "metadata": {},
   "outputs": [
    {
     "data": {
      "text/plain": [
       "1162"
      ]
     },
     "execution_count": 4,
     "metadata": {},
     "output_type": "execute_result"
    }
   ],
   "source": [
    "sum(df.dif>0)"
   ]
  },
  {
   "cell_type": "markdown",
   "id": "fc8e65f0-0d5c-4d73-8459-34914ffe3592",
   "metadata": {},
   "source": [
    "# Part 2"
   ]
  },
  {
   "cell_type": "code",
   "execution_count": 5,
   "id": "802e596e-ae29-4acc-81d5-ca4a9e4614e4",
   "metadata": {},
   "outputs": [],
   "source": [
    "w3 = df.rolling(window=3).sum()"
   ]
  },
  {
   "cell_type": "code",
   "execution_count": 6,
   "id": "7d1e0548-b865-4bc2-9da4-0fba1db7baeb",
   "metadata": {},
   "outputs": [],
   "source": [
    "w3d = w3.diff()"
   ]
  },
  {
   "cell_type": "code",
   "execution_count": 7,
   "id": "230e59bf-b721-445d-be03-bb05fb3093f2",
   "metadata": {},
   "outputs": [
    {
     "data": {
      "text/plain": [
       "1190"
      ]
     },
     "execution_count": 7,
     "metadata": {},
     "output_type": "execute_result"
    }
   ],
   "source": [
    "sum(w3d.depth>0)"
   ]
  }
 ],
 "metadata": {
  "kernelspec": {
   "display_name": "Python 3 (ipykernel)",
   "language": "python",
   "name": "python3"
  },
  "language_info": {
   "codemirror_mode": {
    "name": "ipython",
    "version": 3
   },
   "file_extension": ".py",
   "mimetype": "text/x-python",
   "name": "python",
   "nbconvert_exporter": "python",
   "pygments_lexer": "ipython3",
   "version": "3.8.10"
  }
 },
 "nbformat": 4,
 "nbformat_minor": 5
}
