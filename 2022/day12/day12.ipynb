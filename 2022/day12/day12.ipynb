{
 "cells": [
  {
   "cell_type": "code",
   "execution_count": 1,
   "metadata": {},
   "outputs": [],
   "source": [
    "import heapq"
   ]
  },
  {
   "cell_type": "code",
   "execution_count": 2,
   "metadata": {},
   "outputs": [],
   "source": [
    "class Vertex:\n",
    "    def __init__(self, coordinate):\n",
    "        self.coordinate = coordinate\n",
    "        self.height = -1\n",
    "        self.distance = float(\"inf\")\n",
    "        self.predecessor = None\n",
    "        self.visited = False\n",
    "    def __str__ (self):\n",
    "        return f\"Vertex {self.coordinate}, h = {self.height}, d = {self.distance}\"\n",
    "    def __repr__ (self):\n",
    "        return f\"Vertex {self.coordinate}, h = {self.height}, d = {self.distance}\"\n",
    "    def __lt__(self, other):\n",
    "        return self.coordinate < other.coordinate"
   ]
  },
  {
   "cell_type": "code",
   "execution_count": 3,
   "metadata": {},
   "outputs": [],
   "source": [
    "def get_adjacent(heightmap, current):\n",
    "\n",
    "    adjacents = []\n",
    "\n",
    "    xc = current.coordinate[0]\n",
    "    yc = current.coordinate[1]\n",
    "\n",
    "    # North\n",
    "    north = heightmap.get((xc, yc - 1))\n",
    "    if north and north.height <= current.height + 1:\n",
    "        adjacents.append(north)\n",
    "\n",
    "    # South\n",
    "    south = heightmap.get((xc, yc + 1))\n",
    "    if south and south.height <= current.height + 1:\n",
    "        adjacents.append(south)\n",
    "\n",
    "    # East\n",
    "    east = heightmap.get((xc + 1, yc))\n",
    "    if east and east.height <= current.height + 1:\n",
    "        adjacents.append(east)\n",
    "\n",
    "    # West\n",
    "    west = heightmap.get((xc - 1, yc))\n",
    "    if west and west.height <= current.height + 1:\n",
    "        adjacents.append(west)\n",
    "\n",
    "    return adjacents\n"
   ]
  },
  {
   "cell_type": "code",
   "execution_count": 4,
   "metadata": {},
   "outputs": [],
   "source": [
    "with open('input.txt') as f:\n",
    "    lines = f.read().splitlines()"
   ]
  },
  {
   "cell_type": "code",
   "execution_count": 5,
   "metadata": {},
   "outputs": [],
   "source": [
    "heightmap = {}\n",
    "start = None\n",
    "end = None\n",
    "for (i, line) in enumerate(lines):\n",
    "    for (j, c) in enumerate(line):\n",
    "\n",
    "        v = Vertex((i , j))\n",
    "\n",
    "        h = ord(c) - 97\n",
    "\n",
    "        if h == -14:\n",
    "            v.height = 0\n",
    "            start = v\n",
    "        elif h == -28:\n",
    "            v.height = 25\n",
    "            end = v\n",
    "        else:\n",
    "            v.height = h\n",
    "\n",
    "        heightmap[v.coordinate] = v"
   ]
  },
  {
   "cell_type": "code",
   "execution_count": 6,
   "metadata": {},
   "outputs": [],
   "source": [
    "def dijkstra(graph, start):\n",
    "  # Set the distance for the start node to zero \n",
    "  start.distance = 0\n",
    "  \n",
    "  # Put tuple pair into the priority queue\n",
    "  unvisited_queue = [(start.distance, start)]\n",
    " \n",
    "  # Set all distances to infinity except the start node\n",
    "  for vertex in graph.values():\n",
    "    if vertex != start:\n",
    "      vertex.distance = float(\"inf\")\n",
    "      vertex.visited = False\n",
    "  \n",
    "  # Loop until the queue is empty\n",
    "  while len(unvisited_queue) > 0:\n",
    "    # Pops a vertex with the smallest distance \n",
    "    current = heapq.heappop(unvisited_queue)[1]\n",
    "    current.visited = True\n",
    "\n",
    "    # Update distances of all adjacent vertices\n",
    "    for next in get_adjacent(heightmap, current):\n",
    "      if next.visited:\n",
    "        continue\n",
    "      new_distance = current.distance + 1\n",
    "      \n",
    "      if new_distance < next.distance:\n",
    "        next.distance = new_distance\n",
    "        next.predecessor = current\n",
    "        heapq.heappush(unvisited_queue, (new_distance, next))\n",
    "\n"
   ]
  },
  {
   "cell_type": "code",
   "execution_count": 7,
   "metadata": {},
   "outputs": [],
   "source": [
    "dijkstra(heightmap, start)"
   ]
  },
  {
   "attachments": {},
   "cell_type": "markdown",
   "metadata": {},
   "source": [
    "# Part 1"
   ]
  },
  {
   "cell_type": "code",
   "execution_count": 8,
   "metadata": {},
   "outputs": [
    {
     "data": {
      "text/plain": [
       "517"
      ]
     },
     "execution_count": 8,
     "metadata": {},
     "output_type": "execute_result"
    }
   ],
   "source": [
    "end.distance"
   ]
  },
  {
   "attachments": {},
   "cell_type": "markdown",
   "metadata": {},
   "source": [
    "# Part 2"
   ]
  },
  {
   "cell_type": "code",
   "execution_count": 9,
   "metadata": {},
   "outputs": [],
   "source": [
    "heightmap = {}\n",
    "starts = []\n",
    "end = None\n",
    "for (i, line) in enumerate(lines):\n",
    "    for (j, c) in enumerate(line):\n",
    "\n",
    "        v = Vertex((i , j))\n",
    "\n",
    "        h = ord(c) - 97\n",
    "\n",
    "        if h == -14 or h == 0:\n",
    "            v.height = 0\n",
    "            starts.append(v)\n",
    "        elif h == -28:\n",
    "            v.height = 25\n",
    "            end = v\n",
    "        else:\n",
    "            v.height = h\n",
    "\n",
    "        heightmap[v.coordinate] = v"
   ]
  },
  {
   "cell_type": "code",
   "execution_count": 10,
   "metadata": {},
   "outputs": [],
   "source": [
    "distances = []\n",
    "for start in starts:\n",
    "    dijkstra(heightmap, start)\n",
    "    distances.append(end.distance)"
   ]
  },
  {
   "cell_type": "code",
   "execution_count": 11,
   "metadata": {},
   "outputs": [
    {
     "data": {
      "text/plain": [
       "512"
      ]
     },
     "execution_count": 11,
     "metadata": {},
     "output_type": "execute_result"
    }
   ],
   "source": [
    "min(distances)"
   ]
  }
 ],
 "metadata": {
  "kernelspec": {
   "display_name": "Python 3",
   "language": "python",
   "name": "python3"
  },
  "language_info": {
   "codemirror_mode": {
    "name": "ipython",
    "version": 3
   },
   "file_extension": ".py",
   "mimetype": "text/x-python",
   "name": "python",
   "nbconvert_exporter": "python",
   "pygments_lexer": "ipython3",
   "version": "3.10.6"
  },
  "orig_nbformat": 4,
  "vscode": {
   "interpreter": {
    "hash": "aee8b7b246df8f9039afb4144a1f6fd8d2ca17a180786b69acc140d282b71a49"
   }
  }
 },
 "nbformat": 4,
 "nbformat_minor": 2
}
