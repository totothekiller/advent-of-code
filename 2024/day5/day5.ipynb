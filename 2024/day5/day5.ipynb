{
 "cells": [
  {
   "cell_type": "code",
   "execution_count": 1,
   "metadata": {},
   "outputs": [],
   "source": [
    "with open('example.txt') as f:\n",
    "    lines = f.read().splitlines()"
   ]
  },
  {
   "cell_type": "code",
   "execution_count": 2,
   "metadata": {},
   "outputs": [],
   "source": [
    "split_index = lines.index('')\n",
    "part1 = lines[0:split_index]\n",
    "part2 = lines[split_index+1:]"
   ]
  },
  {
   "cell_type": "code",
   "execution_count": 3,
   "metadata": {},
   "outputs": [],
   "source": [
    "from collections import defaultdict\n",
    "\n",
    "requirements: dict[int, set[int]] = defaultdict(set)\n",
    "\n",
    "for line in part1:\n",
    "    v1, v2 = line.split(\"|\")\n",
    "    requirements[int(v2)].add(int(v1))"
   ]
  },
  {
   "cell_type": "code",
   "execution_count": 4,
   "metadata": {},
   "outputs": [
    {
     "data": {
      "text/plain": [
       "defaultdict(set,\n",
       "            {53: {47, 61, 75, 97},\n",
       "             13: {29, 47, 53, 61, 75, 97},\n",
       "             61: {47, 75, 97},\n",
       "             47: {75, 97},\n",
       "             29: {47, 53, 61, 75, 97},\n",
       "             75: {97}})"
      ]
     },
     "execution_count": 4,
     "metadata": {},
     "output_type": "execute_result"
    }
   ],
   "source": [
    "requirements"
   ]
  },
  {
   "cell_type": "code",
   "execution_count": 5,
   "metadata": {},
   "outputs": [],
   "source": [
    "def check_ordering(update: list[int]):\n",
    "    for i, n in enumerate(update):\n",
    "        #print(i,n,requirements[n], update[i+1:])\n",
    "        for req in requirements[n]:\n",
    "            # Page validation failure\n",
    "            if req in update[i+1:]:\n",
    "                return False\n",
    "    return True"
   ]
  },
  {
   "cell_type": "code",
   "execution_count": 6,
   "metadata": {},
   "outputs": [],
   "source": [
    "import math\n",
    "\n",
    "total = 0\n",
    "for update in part2:\n",
    "    orders = list(map(int,update.split(',')))\n",
    "    if check_ordering(orders):\n",
    "        total+=orders[math.floor(len(orders) / 2)]"
   ]
  },
  {
   "cell_type": "code",
   "execution_count": 7,
   "metadata": {},
   "outputs": [
    {
     "name": "stdout",
     "output_type": "stream",
     "text": [
      "143\n"
     ]
    }
   ],
   "source": [
    "# Part 1\n",
    "print(total)"
   ]
  }
 ],
 "metadata": {
  "kernelspec": {
   "display_name": ".venv",
   "language": "python",
   "name": "python3"
  },
  "language_info": {
   "codemirror_mode": {
    "name": "ipython",
    "version": 3
   },
   "file_extension": ".py",
   "mimetype": "text/x-python",
   "name": "python",
   "nbconvert_exporter": "python",
   "pygments_lexer": "ipython3",
   "version": "3.12.7"
  }
 },
 "nbformat": 4,
 "nbformat_minor": 2
}
