{
 "cells": [
  {
   "cell_type": "code",
   "execution_count": 1,
   "metadata": {},
   "outputs": [],
   "source": [
    "data = []\n",
    "with open('input.txt') as f:\n",
    "    for line in f.read().splitlines():\n",
    "        data.append(list(line))"
   ]
  },
  {
   "cell_type": "code",
   "execution_count": 2,
   "metadata": {},
   "outputs": [],
   "source": [
    "import numpy as np\n",
    "\n",
    "map = np.array(data)"
   ]
  },
  {
   "cell_type": "code",
   "execution_count": 3,
   "metadata": {},
   "outputs": [],
   "source": [
    "def move(map: np.ndarray, loop_detector: dict[tuple[int, int], set[str]] = None):\n",
    "    \n",
    "    current_x, current_y, current_state, next_x, next_y, next_state = None, None, None, None, None, None\n",
    "    \n",
    "    # UP\n",
    "    guard_x, guard_y = np.where(map == \"^\")\n",
    "    if guard_x.size > 0 and guard_y.size > 0:\n",
    "        current_state = \"^\"\n",
    "        current_x, current_y = guard_x[0], guard_y[0]\n",
    "        next_x , next_y = guard_x[0] - 1, guard_y[0]\n",
    "        next_state = \">\"\n",
    "\n",
    "    # Down\n",
    "    guard_x, guard_y = np.where(map == \"v\")\n",
    "    if guard_x.size > 0 and guard_y.size > 0:\n",
    "        current_state = \"v\"\n",
    "        current_x, current_y = guard_x[0], guard_y[0]\n",
    "        next_x , next_y = guard_x[0] + 1, guard_y[0]\n",
    "        next_state = \"<\"\n",
    "\n",
    "    # Left\n",
    "    guard_x, guard_y = np.where(map == \"<\")\n",
    "    if guard_x.size > 0 and guard_y.size > 0:\n",
    "        current_state = \"<\"\n",
    "        current_x, current_y = guard_x[0], guard_y[0]\n",
    "        next_x , next_y = guard_x[0], guard_y[0] - 1\n",
    "        next_state = \"^\"\n",
    "\n",
    "    # Right\n",
    "    guard_x, guard_y = np.where(map == \">\")\n",
    "    if guard_x.size > 0 and guard_y.size > 0:\n",
    "        current_state = \">\"\n",
    "        current_x, current_y = guard_x[0], guard_y[0]\n",
    "        next_x , next_y = guard_x[0], guard_y[0] + 1\n",
    "        next_state = \"v\"\n",
    "\n",
    "    assert next_state is not None\n",
    "    assert current_x is not None\n",
    "    assert current_y is not None\n",
    "    assert next_x is not None\n",
    "    assert next_y is not None\n",
    "\n",
    "    # Mark\n",
    "    map[current_x][current_y] = \"X\"\n",
    "    \n",
    "    # In Map ?\n",
    "    if next_x < 0 or next_x >= map.shape[0] or next_y < 0 or next_y >= map.shape[1]:\n",
    "        return False, False\n",
    "    \n",
    "    # Obstacle ?\n",
    "    if map[next_x][next_y] == \"#\":\n",
    "        \n",
    "        if loop_detector is not None and (next_state in loop_detector[(next_x, next_y)]):\n",
    "            return False, True\n",
    "        \n",
    "        # Rotate\n",
    "        map[current_x][current_y] = next_state\n",
    "\n",
    "        # Add to loop detector\n",
    "        if loop_detector is not None:\n",
    "            loop_detector[(next_x, next_y)].add(next_state)\n",
    "\n",
    "    else:\n",
    "        # Move\n",
    "        map[next_x][next_y] = current_state\n",
    "\n",
    "    return True, False\n",
    "        \n"
   ]
  },
  {
   "cell_type": "code",
   "execution_count": 4,
   "metadata": {},
   "outputs": [],
   "source": [
    "while True:\n",
    "    ok, _ = move(map)\n",
    "    if not ok:\n",
    "        break"
   ]
  },
  {
   "cell_type": "code",
   "execution_count": 5,
   "metadata": {},
   "outputs": [
    {
     "data": {
      "text/plain": [
       "4776"
      ]
     },
     "execution_count": 5,
     "metadata": {},
     "output_type": "execute_result"
    }
   ],
   "source": [
    "# Part 1\n",
    "np.count_nonzero(map == \"X\")"
   ]
  },
  {
   "cell_type": "code",
   "execution_count": 6,
   "metadata": {},
   "outputs": [
    {
     "ename": "KeyboardInterrupt",
     "evalue": "",
     "output_type": "error",
     "traceback": [
      "\u001b[0;31m---------------------------------------------------------------------------\u001b[0m",
      "\u001b[0;31mKeyboardInterrupt\u001b[0m                         Traceback (most recent call last)",
      "Cell \u001b[0;32mIn[6], line 13\u001b[0m\n\u001b[1;32m     11\u001b[0m \u001b[38;5;28mmap\u001b[39m[i][j] \u001b[38;5;241m=\u001b[39m \u001b[38;5;124m\"\u001b[39m\u001b[38;5;124m#\u001b[39m\u001b[38;5;124m\"\u001b[39m\n\u001b[1;32m     12\u001b[0m \u001b[38;5;28;01mwhile\u001b[39;00m \u001b[38;5;28;01mTrue\u001b[39;00m:\n\u001b[0;32m---> 13\u001b[0m     ok, loop_detected \u001b[38;5;241m=\u001b[39m \u001b[43mmove\u001b[49m\u001b[43m(\u001b[49m\u001b[38;5;28;43mmap\u001b[39;49m\u001b[43m,\u001b[49m\u001b[43m \u001b[49m\u001b[43mloop_detector\u001b[49m\u001b[43m)\u001b[49m\n\u001b[1;32m     14\u001b[0m     \u001b[38;5;28;01mif\u001b[39;00m \u001b[38;5;129;01mnot\u001b[39;00m ok:\n\u001b[1;32m     15\u001b[0m         \u001b[38;5;28;01mbreak\u001b[39;00m\n",
      "Cell \u001b[0;32mIn[3], line 6\u001b[0m, in \u001b[0;36mmove\u001b[0;34m(map, loop_detector)\u001b[0m\n\u001b[1;32m      3\u001b[0m current_x, current_y, current_state, next_x, next_y, next_state \u001b[38;5;241m=\u001b[39m \u001b[38;5;28;01mNone\u001b[39;00m, \u001b[38;5;28;01mNone\u001b[39;00m, \u001b[38;5;28;01mNone\u001b[39;00m, \u001b[38;5;28;01mNone\u001b[39;00m, \u001b[38;5;28;01mNone\u001b[39;00m, \u001b[38;5;28;01mNone\u001b[39;00m\n\u001b[1;32m      5\u001b[0m \u001b[38;5;66;03m# UP\u001b[39;00m\n\u001b[0;32m----> 6\u001b[0m guard_x, guard_y \u001b[38;5;241m=\u001b[39m \u001b[43mnp\u001b[49m\u001b[38;5;241;43m.\u001b[39;49m\u001b[43mwhere\u001b[49m\u001b[43m(\u001b[49m\u001b[38;5;28;43mmap\u001b[39;49m\u001b[43m \u001b[49m\u001b[38;5;241;43m==\u001b[39;49m\u001b[43m \u001b[49m\u001b[38;5;124;43m\"\u001b[39;49m\u001b[38;5;124;43m^\u001b[39;49m\u001b[38;5;124;43m\"\u001b[39;49m\u001b[43m)\u001b[49m\n\u001b[1;32m      7\u001b[0m \u001b[38;5;28;01mif\u001b[39;00m guard_x\u001b[38;5;241m.\u001b[39msize \u001b[38;5;241m>\u001b[39m \u001b[38;5;241m0\u001b[39m \u001b[38;5;129;01mand\u001b[39;00m guard_y\u001b[38;5;241m.\u001b[39msize \u001b[38;5;241m>\u001b[39m \u001b[38;5;241m0\u001b[39m:\n\u001b[1;32m      8\u001b[0m     current_state \u001b[38;5;241m=\u001b[39m \u001b[38;5;124m\"\u001b[39m\u001b[38;5;124m^\u001b[39m\u001b[38;5;124m\"\u001b[39m\n",
      "File \u001b[0;32m<__array_function__ internals>:177\u001b[0m, in \u001b[0;36mwhere\u001b[0;34m(*args, **kwargs)\u001b[0m\n",
      "\u001b[0;31mKeyboardInterrupt\u001b[0m: "
     ]
    }
   ],
   "source": [
    "from collections import defaultdict\n",
    "\n",
    "loop_counter = 0\n",
    "map = np.array(data)\n",
    "\n",
    "for i in range(map.shape[0]):\n",
    "    for j in range(map.shape[1]):\n",
    "        map = np.array(data)\n",
    "        loop_detector: dict[tuple[int, int], set[str]] = defaultdict(set)\n",
    "        if map[i][j] == \".\":\n",
    "            map[i][j] = \"#\"\n",
    "            while True:\n",
    "                ok, loop_detected = move(map, loop_detector)\n",
    "                if not ok:\n",
    "                    break\n",
    "            if loop_detected:\n",
    "                loop_counter+=1\n",
    "                print(f\"Found loop at {i} {j}\")"
   ]
  },
  {
   "cell_type": "code",
   "execution_count": null,
   "metadata": {},
   "outputs": [
    {
     "data": {
      "text/plain": [
       "1"
      ]
     },
     "execution_count": 35,
     "metadata": {},
     "output_type": "execute_result"
    }
   ],
   "source": [
    "loop_counter"
   ]
  }
 ],
 "metadata": {
  "kernelspec": {
   "display_name": "venv",
   "language": "python",
   "name": "python3"
  },
  "language_info": {
   "codemirror_mode": {
    "name": "ipython",
    "version": 3
   },
   "file_extension": ".py",
   "mimetype": "text/x-python",
   "name": "python",
   "nbconvert_exporter": "python",
   "pygments_lexer": "ipython3",
   "version": "3.10.14"
  }
 },
 "nbformat": 4,
 "nbformat_minor": 2
}
