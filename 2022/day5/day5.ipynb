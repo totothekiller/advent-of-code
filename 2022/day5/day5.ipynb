{
 "cells": [
  {
   "cell_type": "code",
   "execution_count": 1,
   "metadata": {},
   "outputs": [],
   "source": [
    "from collections import deque\n",
    "import re"
   ]
  },
  {
   "cell_type": "code",
   "execution_count": 2,
   "metadata": {},
   "outputs": [],
   "source": [
    "with open('input.txt') as f:\n",
    "    lines = f.read().split('\\n\\n')"
   ]
  },
  {
   "cell_type": "code",
   "execution_count": 3,
   "metadata": {},
   "outputs": [],
   "source": [
    "cargo = lines[0].split('\\n')\n",
    "operations = lines[1].split('\\n')"
   ]
  },
  {
   "cell_type": "code",
   "execution_count": 4,
   "metadata": {},
   "outputs": [],
   "source": [
    "def read_cargo(cargo):\n",
    "    # Nbr of stacks\n",
    "    nbrStacks = int(cargo[-1][-4:])\n",
    "\n",
    "    # Init Stacks with empty deque\n",
    "    stacks = [deque() for _ in range(nbrStacks)]\n",
    "    \n",
    "    # Read Row\n",
    "    for row in cargo[:-1]:\n",
    "        for i in range(nbrStacks):\n",
    "            mark = row[i*4 + 1:i*4 + 2].strip()\n",
    "            if mark:\n",
    "                # Add to stack\n",
    "                stacks[i].appendleft(mark)\n",
    "    return stacks"
   ]
  },
  {
   "cell_type": "code",
   "execution_count": 5,
   "metadata": {},
   "outputs": [],
   "source": [
    "ship = read_cargo(cargo)"
   ]
  },
  {
   "cell_type": "markdown",
   "metadata": {},
   "source": [
    "# Part 1"
   ]
  },
  {
   "cell_type": "code",
   "execution_count": 6,
   "metadata": {},
   "outputs": [],
   "source": [
    "def crate_mover_9000(operations, ship):\n",
    "    for op in operations:\n",
    "\n",
    "        # Read Manual\n",
    "        m = re.search(r\"move\\s(\\d+)\\sfrom\\s(\\d+)\\sto\\s(\\d+)\", op)\n",
    "\n",
    "        # Extract Values\n",
    "        nbr = int(m.group(1))\n",
    "        _from = int(m.group(2))\n",
    "        to = int(m.group(3))\n",
    "\n",
    "        # Moving crate\n",
    "        for _ in range(nbr):\n",
    "            crate = ship[_from - 1].pop()\n",
    "            ship[to - 1].append(crate)\n",
    "    \n",
    "    return ship"
   ]
  },
  {
   "cell_type": "code",
   "execution_count": 7,
   "metadata": {},
   "outputs": [],
   "source": [
    "ship = crate_mover_9000(operations, ship)"
   ]
  },
  {
   "cell_type": "code",
   "execution_count": 8,
   "metadata": {},
   "outputs": [
    {
     "data": {
      "text/plain": [
       "'PTWLTDSJV'"
      ]
     },
     "execution_count": 8,
     "metadata": {},
     "output_type": "execute_result"
    }
   ],
   "source": [
    "''.join(map(lambda c: c[-1], ship))"
   ]
  },
  {
   "cell_type": "markdown",
   "metadata": {},
   "source": [
    "# Part 2"
   ]
  },
  {
   "cell_type": "code",
   "execution_count": 9,
   "metadata": {},
   "outputs": [],
   "source": [
    "ship = read_cargo(cargo)"
   ]
  },
  {
   "cell_type": "code",
   "execution_count": 10,
   "metadata": {},
   "outputs": [],
   "source": [
    "def crate_mover_9001(operations, ship):\n",
    "    for op in operations:\n",
    "\n",
    "        # Read Manual\n",
    "        m = re.search(r\"move\\s(\\d+)\\sfrom\\s(\\d+)\\sto\\s(\\d+)\", op)\n",
    "\n",
    "        # Extract Values\n",
    "        nbr = int(m.group(1))\n",
    "        _from = int(m.group(2))\n",
    "        to = int(m.group(3))\n",
    "\n",
    "        # Moving crate\n",
    "        tmp = deque()\n",
    "\n",
    "        # From\n",
    "        for _ in range(nbr):\n",
    "            crate = ship[_from - 1].pop()\n",
    "            tmp.append(crate)\n",
    "        \n",
    "        tmp.reverse()\n",
    "\n",
    "        # To\n",
    "        for c in tmp:\n",
    "            ship[to - 1].append(c)\n",
    "    return ship"
   ]
  },
  {
   "cell_type": "code",
   "execution_count": 11,
   "metadata": {},
   "outputs": [],
   "source": [
    "ship = crate_mover_9001(operations, ship)"
   ]
  },
  {
   "cell_type": "code",
   "execution_count": 12,
   "metadata": {},
   "outputs": [
    {
     "data": {
      "text/plain": [
       "'WZMFVGGZP'"
      ]
     },
     "execution_count": 12,
     "metadata": {},
     "output_type": "execute_result"
    }
   ],
   "source": [
    "''.join(map(lambda c: c[-1], ship))"
   ]
  }
 ],
 "metadata": {
  "kernelspec": {
   "display_name": "Python 3.10.8 64-bit",
   "language": "python",
   "name": "python3"
  },
  "language_info": {
   "codemirror_mode": {
    "name": "ipython",
    "version": 3
   },
   "file_extension": ".py",
   "mimetype": "text/x-python",
   "name": "python",
   "nbconvert_exporter": "python",
   "pygments_lexer": "ipython3",
   "version": "3.10.8"
  },
  "orig_nbformat": 4,
  "vscode": {
   "interpreter": {
    "hash": "26de051ba29f2982a8de78e945f0abaf191376122a1563185a90213a26c5da77"
   }
  }
 },
 "nbformat": 4,
 "nbformat_minor": 2
}
