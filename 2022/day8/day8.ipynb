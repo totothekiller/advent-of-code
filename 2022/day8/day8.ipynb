{
 "cells": [
  {
   "cell_type": "code",
   "execution_count": 1,
   "metadata": {},
   "outputs": [],
   "source": [
    "import numpy as np"
   ]
  },
  {
   "cell_type": "code",
   "execution_count": 2,
   "metadata": {},
   "outputs": [],
   "source": [
    "with open('input.txt') as f:\n",
    "    lines = f.read().splitlines()"
   ]
  },
  {
   "cell_type": "code",
   "execution_count": 3,
   "metadata": {},
   "outputs": [],
   "source": [
    "forest = np.array([[int(t) for t in l] for l in lines])"
   ]
  },
  {
   "cell_type": "code",
   "execution_count": 4,
   "metadata": {},
   "outputs": [],
   "source": [
    "size, size = np.shape(forest)"
   ]
  },
  {
   "cell_type": "code",
   "execution_count": 5,
   "metadata": {},
   "outputs": [],
   "source": [
    "total_visible = 2 * size + 2 * (size - 2)\n",
    "max_scenic = 0"
   ]
  },
  {
   "cell_type": "code",
   "execution_count": 6,
   "metadata": {},
   "outputs": [],
   "source": [
    "for i in range(1, size-1):\n",
    "    for j in range(1, size-1):\n",
    "        \n",
    "        t = forest[i][j]\n",
    "\n",
    "        h = forest[i]\n",
    "        v = forest[:, j]\n",
    "\n",
    "        # North\n",
    "        n = v[:i]\n",
    "        # South\n",
    "        s = v[i+1:]\n",
    "\n",
    "        # East\n",
    "        e = h[j+1:]\n",
    "        # West\n",
    "        w = h[:j]\n",
    "\n",
    "        # Visible North ?\n",
    "        vn = all([x < t for x in n])\n",
    "        # Count North\n",
    "        cn = np.argmax(np.flipud(n) >= t) if any(n >= t) else n.size\n",
    "\n",
    "        # Visible South ?\n",
    "        vs = all([x < t for x in s])\n",
    "        # Count South\n",
    "        cs = np.argmax(s >= t) + 1 if any(s >= t) else s.size\n",
    "\n",
    "        # Visible East ?\n",
    "        ve = all([x < t for x in e])\n",
    "        # Count East\n",
    "        ce = np.argmax(e >= t) + 1 if any(e >= t) else e.size\n",
    "\n",
    "        # Visible West ?\n",
    "        vw = all([x < t for x in w])\n",
    "        cw =  np.argmax(np.flipud(w) >= t) if any(w >= t) else w.size\n",
    "\n",
    "        # Visible ?\n",
    "        v = vn or vs or ve or vw\n",
    "\n",
    "        if v:\n",
    "            total_visible +=1\n",
    "\n",
    "        scenic = cn * cs * ce * cw\n",
    "\n",
    "        max_scenic = max(max_scenic, scenic)\n",
    "\n",
    "\n"
   ]
  },
  {
   "attachments": {},
   "cell_type": "markdown",
   "metadata": {},
   "source": [
    "# Part 1"
   ]
  },
  {
   "cell_type": "code",
   "execution_count": 7,
   "metadata": {},
   "outputs": [
    {
     "name": "stdout",
     "output_type": "stream",
     "text": [
      "1736\n"
     ]
    }
   ],
   "source": [
    "print(total_visible)"
   ]
  },
  {
   "attachments": {},
   "cell_type": "markdown",
   "metadata": {},
   "source": [
    "# Part 2"
   ]
  },
  {
   "cell_type": "code",
   "execution_count": 8,
   "metadata": {},
   "outputs": [
    {
     "name": "stdout",
     "output_type": "stream",
     "text": [
      "268800\n"
     ]
    }
   ],
   "source": [
    "print(max_scenic)"
   ]
  }
 ],
 "metadata": {
  "kernelspec": {
   "display_name": "venv",
   "language": "python",
   "name": "python3"
  },
  "language_info": {
   "codemirror_mode": {
    "name": "ipython",
    "version": 3
   },
   "file_extension": ".py",
   "mimetype": "text/x-python",
   "name": "python",
   "nbconvert_exporter": "python",
   "pygments_lexer": "ipython3",
   "version": "3.10.6"
  },
  "orig_nbformat": 4,
  "vscode": {
   "interpreter": {
    "hash": "e10a3e31dceb8787fa5c3d5055963c6c04447b6f1a79a84c00293d32b5a08fc4"
   }
  }
 },
 "nbformat": 4,
 "nbformat_minor": 2
}
