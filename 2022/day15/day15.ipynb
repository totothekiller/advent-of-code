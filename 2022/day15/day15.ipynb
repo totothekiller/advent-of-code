{
 "cells": [
  {
   "cell_type": "code",
   "execution_count": 1,
   "metadata": {},
   "outputs": [],
   "source": [
    "import parse"
   ]
  },
  {
   "cell_type": "code",
   "execution_count": 2,
   "metadata": {},
   "outputs": [],
   "source": [
    "with open('input.txt') as f:\n",
    "    lines = f.read().splitlines()"
   ]
  },
  {
   "cell_type": "code",
   "execution_count": 3,
   "metadata": {},
   "outputs": [],
   "source": [
    "sensor_to_beacon: dict[tuple[int, int], tuple[int, int]] = {} \n",
    "\n",
    "for line in lines: \n",
    "    r = parse.parse( \"Sensor at x={sx}, y={sy}: closest beacon is at x={bx}, y={by}\", line ) \n",
    "    sensor_to_beacon[int(r[\"sx\"]), int(r[\"sy\"])] = (int(r[\"bx\"]), int(r[\"by\"]))"
   ]
  },
  {
   "cell_type": "code",
   "execution_count": 4,
   "metadata": {},
   "outputs": [],
   "source": [
    "def manhattan_distance(point1, point2):\n",
    "  x1, y1 = point1\n",
    "  x2, y2 = point2\n",
    "  return abs(x1 - x2) + abs(y1 - y2)\n"
   ]
  },
  {
   "cell_type": "code",
   "execution_count": 5,
   "metadata": {},
   "outputs": [],
   "source": [
    "target_row = 2000000\n",
    "target_row_intersection = set([])\n",
    "\n",
    "for sensor, beacon in sensor_to_beacon.items():\n",
    "\n",
    "    beacon_distance = manhattan_distance(sensor, beacon)\n",
    "\n",
    "    # Nearest point in target row\n",
    "    nearest = (sensor[0] , target_row)\n",
    "\n",
    "    nearest_distance = manhattan_distance(sensor, nearest)\n",
    "\n",
    "    distance_diff = beacon_distance - nearest_distance\n",
    "\n",
    "    if distance_diff < 0:\n",
    "        continue\n",
    "    \n",
    "    # We have intersection with row\n",
    "    intersections = [(x , target_row) for x in range(sensor[0] - distance_diff, sensor[0] + distance_diff + 1)]\n",
    "\n",
    "    # Append intersections\n",
    "    target_row_intersection = target_row_intersection.union(set(intersections))\n",
    "    "
   ]
  },
  {
   "attachments": {},
   "cell_type": "markdown",
   "metadata": {},
   "source": [
    "# Part 1"
   ]
  },
  {
   "cell_type": "code",
   "execution_count": 6,
   "metadata": {},
   "outputs": [],
   "source": [
    "beacon_in_target_row = set([b for b in sensor_to_beacon.values() if b[1] == target_row])"
   ]
  },
  {
   "cell_type": "code",
   "execution_count": 7,
   "metadata": {},
   "outputs": [
    {
     "data": {
      "text/plain": [
       "5832528"
      ]
     },
     "execution_count": 7,
     "metadata": {},
     "output_type": "execute_result"
    }
   ],
   "source": [
    "len(target_row_intersection) - len(beacon_in_target_row)"
   ]
  }
 ],
 "metadata": {
  "kernelspec": {
   "display_name": "venv",
   "language": "python",
   "name": "python3"
  },
  "language_info": {
   "codemirror_mode": {
    "name": "ipython",
    "version": 3
   },
   "file_extension": ".py",
   "mimetype": "text/x-python",
   "name": "python",
   "nbconvert_exporter": "python",
   "pygments_lexer": "ipython3",
   "version": "3.10.9"
  },
  "orig_nbformat": 4,
  "vscode": {
   "interpreter": {
    "hash": "24514c4a6b0215e74fd7df0a9fd7602948554967e3c8aeeda7e531f979f4bcc8"
   }
  }
 },
 "nbformat": 4,
 "nbformat_minor": 2
}
