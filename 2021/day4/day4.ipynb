{
 "cells": [
  {
   "cell_type": "markdown",
   "id": "314fc49d-3983-40ce-85a1-48124b7a8cab",
   "metadata": {},
   "source": [
    "# Part 1"
   ]
  },
  {
   "cell_type": "code",
   "execution_count": 1,
   "id": "f086a2e4-398e-43c5-bbd1-ba083c995b18",
   "metadata": {},
   "outputs": [],
   "source": [
    "import pandas as pd\n",
    "import numpy as np"
   ]
  },
  {
   "cell_type": "code",
   "execution_count": 2,
   "id": "5c1072cf-492b-4f45-92c8-af4d952e07f8",
   "metadata": {},
   "outputs": [],
   "source": [
    "fp = open('input.txt', 'r')"
   ]
  },
  {
   "cell_type": "code",
   "execution_count": 3,
   "id": "6a765643-eec8-4d02-bf4a-fdb2ba2591f0",
   "metadata": {},
   "outputs": [],
   "source": [
    "line = fp.readline()"
   ]
  },
  {
   "cell_type": "code",
   "execution_count": 4,
   "id": "ad750ee7-b53b-4244-a73c-5b4e137f3bd5",
   "metadata": {},
   "outputs": [],
   "source": [
    "draw = list(map(int, line.split(',')))"
   ]
  },
  {
   "cell_type": "code",
   "execution_count": 5,
   "id": "974f9603-5321-4218-a30f-d9f18642dbe8",
   "metadata": {},
   "outputs": [],
   "source": [
    "boards = list(map(lambda x: pd.read_csv('input.txt', header=None, sep='\\s+', skiprows=x, nrows=5), [*range(2, 597, 6)]))"
   ]
  },
  {
   "cell_type": "code",
   "execution_count": 6,
   "id": "7c10c5f4-7f05-4acb-a4d4-3efa8659fad0",
   "metadata": {},
   "outputs": [],
   "source": [
    "boardMarks = list(map(lambda x: x < 0, boards))"
   ]
  },
  {
   "cell_type": "code",
   "execution_count": 7,
   "id": "18765819-2834-449c-8d6c-adfe18df0135",
   "metadata": {},
   "outputs": [],
   "source": [
    "def mark(board, boardMark, number):\n",
    "    for i in range(5):\n",
    "        for j in range(5):\n",
    "            if board.iloc[i,j] == number:\n",
    "                boardMark.iloc[i,j] = True"
   ]
  },
  {
   "cell_type": "code",
   "execution_count": 8,
   "id": "688751db-6c17-4a4e-a381-71a6aa75073f",
   "metadata": {},
   "outputs": [],
   "source": [
    "def checkBoardMark(boardMark):\n",
    "    if boardMark.all(axis=0).any() :\n",
    "        return True\n",
    "    elif boardMark.all(axis=1).any() :\n",
    "        return True\n",
    "    else:\n",
    "        return False"
   ]
  },
  {
   "cell_type": "code",
   "execution_count": 9,
   "id": "d5b6c64d-77f7-480d-a8f7-427e0637d02d",
   "metadata": {},
   "outputs": [],
   "source": [
    "def play(boards, boardMarks, draw, index):\n",
    "    \n",
    "    number = draw[index]\n",
    "    \n",
    "    print('Tirage : ' + str(number))\n",
    "    \n",
    "    for i in range(len(boards)):\n",
    "        mark(boards[i], boardMarks[i], number)\n",
    "\n",
    "    boardsChecked = list(map(checkBoardMark, boardMarks))\n",
    "\n",
    "    bingo = [i for i, x in enumerate(boardsChecked) if x]\n",
    "    \n",
    "    if len(bingo) > 0 :\n",
    "        return [bingo, number]\n",
    "    else:\n",
    "        return play(boards, boardMarks, draw, index + 1)"
   ]
  },
  {
   "cell_type": "code",
   "execution_count": 10,
   "id": "5b78327d-3cad-4280-bc93-201ea4f61c62",
   "metadata": {},
   "outputs": [
    {
     "name": "stdout",
     "output_type": "stream",
     "text": [
      "Tirage : 28\n",
      "Tirage : 82\n",
      "Tirage : 77\n",
      "Tirage : 88\n",
      "Tirage : 95\n",
      "Tirage : 55\n",
      "Tirage : 62\n",
      "Tirage : 21\n",
      "Tirage : 99\n",
      "Tirage : 14\n",
      "Tirage : 30\n",
      "Tirage : 9\n",
      "Tirage : 97\n",
      "Tirage : 92\n",
      "Tirage : 94\n",
      "Tirage : 3\n",
      "Tirage : 60\n",
      "Tirage : 22\n",
      "Tirage : 18\n",
      "Tirage : 86\n",
      "Tirage : 78\n",
      "Tirage : 71\n",
      "Tirage : 61\n",
      "Tirage : 43\n",
      "Tirage : 79\n"
     ]
    }
   ],
   "source": [
    "bingo = play(boards, boardMarks, draw, 0)"
   ]
  },
  {
   "cell_type": "code",
   "execution_count": 11,
   "id": "e8e274b8-c10f-4a19-8e5e-0a6784f23bc3",
   "metadata": {},
   "outputs": [
    {
     "data": {
      "text/plain": [
       "51034"
      ]
     },
     "execution_count": 11,
     "metadata": {},
     "output_type": "execute_result"
    }
   ],
   "source": [
    "((boardMarks[bingo[0][0]] != True) * boards[bingo[0][0]]).sum().sum()*bingo[1]"
   ]
  },
  {
   "cell_type": "markdown",
   "id": "a26f1a7a-0e76-4d7b-9193-e061762b23ff",
   "metadata": {},
   "source": [
    "# Part 2"
   ]
  },
  {
   "cell_type": "code",
   "execution_count": 12,
   "id": "b917671a-775b-42b5-b9b6-0d03dd4aa2db",
   "metadata": {},
   "outputs": [],
   "source": [
    "boards = list(map(lambda x: pd.read_csv('input.txt', header=None, sep='\\s+', skiprows=x, nrows=5), [*range(2, 597, 6)]))\n",
    "boardMarks = list(map(lambda x: x < 0, boards))"
   ]
  },
  {
   "cell_type": "code",
   "execution_count": 13,
   "id": "f771af49-47e0-40b9-abb8-88b84278f97a",
   "metadata": {},
   "outputs": [],
   "source": [
    "def play2(boards, boardMarks, draw, index, bingos):\n",
    "    \n",
    "    if index >= len(draw):\n",
    "        return\n",
    "    \n",
    "    number = draw[index]\n",
    "    \n",
    "    print('Tirage ' + str(index) + ': '  + str(number))\n",
    "    \n",
    "    for i in range(len(boards)):\n",
    "        mark(boards[i], boardMarks[i], number)\n",
    "\n",
    "    boardsChecked = list(map(checkBoardMark, boardMarks))\n",
    "\n",
    "    bingo = [i for i, x in enumerate(boardsChecked) if x]\n",
    "        \n",
    "    if len(bingo) > 0 :\n",
    "        for b in bingo:\n",
    "            bingos.append([index, number, boards[b].copy(), boardMarks[b].copy()])\n",
    "        for b in sorted(bingo, reverse=True):\n",
    "            boards.pop(b)\n",
    "            boardMarks.pop(b)\n",
    "\n",
    "    play2(boards, boardMarks, draw, index + 1, bingos)"
   ]
  },
  {
   "cell_type": "code",
   "execution_count": 14,
   "id": "0fbc0c57-3e8a-4e0b-a1ee-20ee084431a9",
   "metadata": {},
   "outputs": [],
   "source": [
    "bingos = []"
   ]
  },
  {
   "cell_type": "code",
   "execution_count": 15,
   "id": "b21e1420-86bd-41a7-811a-c24444dbf7d7",
   "metadata": {},
   "outputs": [
    {
     "name": "stdout",
     "output_type": "stream",
     "text": [
      "Tirage 0: 28\n",
      "Tirage 1: 82\n",
      "Tirage 2: 77\n",
      "Tirage 3: 88\n",
      "Tirage 4: 95\n",
      "Tirage 5: 55\n",
      "Tirage 6: 62\n",
      "Tirage 7: 21\n",
      "Tirage 8: 99\n",
      "Tirage 9: 14\n",
      "Tirage 10: 30\n",
      "Tirage 11: 9\n",
      "Tirage 12: 97\n",
      "Tirage 13: 92\n",
      "Tirage 14: 94\n",
      "Tirage 15: 3\n",
      "Tirage 16: 60\n",
      "Tirage 17: 22\n",
      "Tirage 18: 18\n",
      "Tirage 19: 86\n",
      "Tirage 20: 78\n",
      "Tirage 21: 71\n",
      "Tirage 22: 61\n",
      "Tirage 23: 43\n",
      "Tirage 24: 79\n",
      "Tirage 25: 33\n",
      "Tirage 26: 65\n",
      "Tirage 27: 81\n",
      "Tirage 28: 26\n",
      "Tirage 29: 49\n",
      "Tirage 30: 47\n",
      "Tirage 31: 51\n",
      "Tirage 32: 0\n",
      "Tirage 33: 89\n",
      "Tirage 34: 57\n",
      "Tirage 35: 75\n",
      "Tirage 36: 42\n",
      "Tirage 37: 35\n",
      "Tirage 38: 80\n",
      "Tirage 39: 1\n",
      "Tirage 40: 46\n",
      "Tirage 41: 83\n",
      "Tirage 42: 39\n",
      "Tirage 43: 53\n",
      "Tirage 44: 40\n",
      "Tirage 45: 36\n",
      "Tirage 46: 54\n",
      "Tirage 47: 70\n",
      "Tirage 48: 76\n",
      "Tirage 49: 38\n",
      "Tirage 50: 50\n",
      "Tirage 51: 23\n",
      "Tirage 52: 67\n",
      "Tirage 53: 2\n",
      "Tirage 54: 20\n",
      "Tirage 55: 87\n",
      "Tirage 56: 37\n",
      "Tirage 57: 66\n",
      "Tirage 58: 84\n",
      "Tirage 59: 24\n",
      "Tirage 60: 98\n",
      "Tirage 61: 4\n",
      "Tirage 62: 7\n",
      "Tirage 63: 12\n",
      "Tirage 64: 44\n",
      "Tirage 65: 10\n",
      "Tirage 66: 29\n",
      "Tirage 67: 5\n",
      "Tirage 68: 48\n",
      "Tirage 69: 59\n",
      "Tirage 70: 32\n",
      "Tirage 71: 41\n",
      "Tirage 72: 90\n",
      "Tirage 73: 17\n",
      "Tirage 74: 56\n",
      "Tirage 75: 85\n",
      "Tirage 76: 96\n",
      "Tirage 77: 93\n",
      "Tirage 78: 27\n",
      "Tirage 79: 74\n",
      "Tirage 80: 45\n",
      "Tirage 81: 25\n",
      "Tirage 82: 15\n",
      "Tirage 83: 6\n",
      "Tirage 84: 69\n",
      "Tirage 85: 16\n",
      "Tirage 86: 19\n",
      "Tirage 87: 8\n",
      "Tirage 88: 31\n",
      "Tirage 89: 13\n",
      "Tirage 90: 64\n",
      "Tirage 91: 63\n",
      "Tirage 92: 34\n",
      "Tirage 93: 73\n",
      "Tirage 94: 58\n",
      "Tirage 95: 91\n",
      "Tirage 96: 11\n",
      "Tirage 97: 68\n",
      "Tirage 98: 72\n",
      "Tirage 99: 52\n"
     ]
    }
   ],
   "source": [
    "play2(boards, boardMarks, draw, 0,bingos)"
   ]
  },
  {
   "cell_type": "code",
   "execution_count": 16,
   "id": "c9b95d66-720d-48b7-8dec-5a893ffcad2f",
   "metadata": {},
   "outputs": [
    {
     "data": {
      "text/plain": [
       "5434"
      ]
     },
     "execution_count": 16,
     "metadata": {},
     "output_type": "execute_result"
    }
   ],
   "source": [
    "((bingos[len(bingos)-1][3] != True) * bingos[len(bingos)-1][2]).sum().sum()*bingos[99][1]"
   ]
  }
 ],
 "metadata": {
  "kernelspec": {
   "display_name": "Python 3 (ipykernel)",
   "language": "python",
   "name": "python3"
  },
  "language_info": {
   "codemirror_mode": {
    "name": "ipython",
    "version": 3
   },
   "file_extension": ".py",
   "mimetype": "text/x-python",
   "name": "python",
   "nbconvert_exporter": "python",
   "pygments_lexer": "ipython3",
   "version": "3.8.10"
  }
 },
 "nbformat": 4,
 "nbformat_minor": 5
}
