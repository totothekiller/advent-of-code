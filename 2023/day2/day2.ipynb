{
 "cells": [
  {
   "cell_type": "code",
   "execution_count": 1,
   "metadata": {},
   "outputs": [],
   "source": [
    "import re"
   ]
  },
  {
   "cell_type": "code",
   "execution_count": 2,
   "metadata": {},
   "outputs": [],
   "source": [
    "records=[]\n",
    "powers = []\n",
    "\n",
    "with open('input.txt') as f:\n",
    "\n",
    "    for line in f.read().splitlines():\n",
    "\n",
    "        parts = line.split(':')\n",
    "        id = int(parts[0][4:])\n",
    "        games = parts[1].split(';')\n",
    "\n",
    "        valid = True\n",
    "\n",
    "        minCube = {\"red\": 0, \"green\": 0, \"blue\": 0}\n",
    "\n",
    "        for game in games:\n",
    "\n",
    "            cube = {\"red\": 0, \"green\": 0, \"blue\": 0}\n",
    "            \n",
    "            matches = re.finditer(r\"(\\d+)\\s+(\\w+)\", game)\n",
    "\n",
    "            for matchNum, match in enumerate(matches, start=1):\n",
    "                \n",
    "                cubeCount = int(match.group(1))\n",
    "                cubeColor = match.group(2)\n",
    "\n",
    "                cube[cubeColor] = cube[cubeColor] + cubeCount\n",
    "\n",
    "            if cube[\"red\"] > 12 or cube[\"green\"] > 13 or cube[\"blue\"] > 14:\n",
    "                valid = False\n",
    "\n",
    "            minCube[\"red\"] = max(minCube[\"red\"], cube[\"red\"])\n",
    "            minCube[\"green\"] = max(minCube[\"green\"], cube[\"green\"])\n",
    "            minCube[\"blue\"] = max(minCube[\"blue\"], cube[\"blue\"])\n",
    "\n",
    "        if valid:\n",
    "            records.append(id)\n",
    "        \n",
    "        powers.append(minCube[\"red\"] * minCube[\"green\"] * minCube[\"blue\"])"
   ]
  },
  {
   "cell_type": "code",
   "execution_count": 3,
   "metadata": {},
   "outputs": [
    {
     "data": {
      "text/plain": [
       "2727"
      ]
     },
     "execution_count": 3,
     "metadata": {},
     "output_type": "execute_result"
    }
   ],
   "source": [
    "# Part 1\n",
    "sum(records)"
   ]
  },
  {
   "cell_type": "code",
   "execution_count": 4,
   "metadata": {},
   "outputs": [
    {
     "data": {
      "text/plain": [
       "56580"
      ]
     },
     "execution_count": 4,
     "metadata": {},
     "output_type": "execute_result"
    }
   ],
   "source": [
    "# Part 2\n",
    "sum(powers)"
   ]
  }
 ],
 "metadata": {
  "kernelspec": {
   "display_name": "venv",
   "language": "python",
   "name": "python3"
  },
  "language_info": {
   "codemirror_mode": {
    "name": "ipython",
    "version": 3
   },
   "file_extension": ".py",
   "mimetype": "text/x-python",
   "name": "python",
   "nbconvert_exporter": "python",
   "pygments_lexer": "ipython3",
   "version": "3.10.10"
  },
  "orig_nbformat": 4
 },
 "nbformat": 4,
 "nbformat_minor": 2
}
