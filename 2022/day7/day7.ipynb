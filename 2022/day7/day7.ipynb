{
 "cells": [
  {
   "cell_type": "code",
   "execution_count": 1,
   "metadata": {},
   "outputs": [],
   "source": [
    "with open('input.txt') as f:\n",
    "    lines = f.read().splitlines()"
   ]
  },
  {
   "cell_type": "code",
   "execution_count": 2,
   "metadata": {},
   "outputs": [],
   "source": [
    "class Folder:\n",
    "    def __init__(self, name, parent):\n",
    "        self.name = name\n",
    "        self.parent = parent\n",
    "        self.folders = []\n",
    "        self.files = []\n",
    "    def __str__ (self):\n",
    "        return f\"[{self.name} : {len(self.folders)} folders, {len(self.files)} files]\"\n",
    "    def size(self):\n",
    "        return sum(map(lambda f : f.size(), self.folders)) + sum(map(lambda f : f.size, self.files))"
   ]
  },
  {
   "cell_type": "code",
   "execution_count": 3,
   "metadata": {},
   "outputs": [],
   "source": [
    "class File:\n",
    "    def __init__(self, name, size):\n",
    "        self.name = name\n",
    "        self.size = size\n",
    "    def __str__ (self):\n",
    "        return f\"file {self.name} : {self.size}\""
   ]
  },
  {
   "cell_type": "code",
   "execution_count": 4,
   "metadata": {},
   "outputs": [],
   "source": [
    "fs = Folder('root', None)"
   ]
  },
  {
   "cell_type": "code",
   "execution_count": 5,
   "metadata": {},
   "outputs": [],
   "source": [
    "def cmd(lines, current):\n",
    "    try:\n",
    "        line = next(lines)\n",
    "    except StopIteration:\n",
    "        return\n",
    "    \n",
    "    if line.startswith('$ cd ..'):\n",
    "        cmd(lines, current.parent)\n",
    "\n",
    "    elif line.startswith('$ cd'):\n",
    "        name = line[4:].strip()\n",
    "        subFolder = Folder(name, current)\n",
    "        current.folders.append(subFolder)\n",
    "\n",
    "        cmd(lines, subFolder)\n",
    "        \n",
    "    elif line == '$ ls':\n",
    "        cmd(lines, current)\n",
    "\n",
    "    elif line.startswith('dir'):\n",
    "        cmd(lines, current)\n",
    "\n",
    "    else:\n",
    "        info = line.split(' ')\n",
    "\n",
    "        size = info[0]\n",
    "        name = info[1]\n",
    "\n",
    "        current.files.append(File(name, int(size)))\n",
    "\n",
    "        cmd(lines, current)\n",
    "    "
   ]
  },
  {
   "cell_type": "code",
   "execution_count": 6,
   "metadata": {},
   "outputs": [],
   "source": [
    "cmd(iter(lines), fs)"
   ]
  },
  {
   "cell_type": "markdown",
   "metadata": {},
   "source": [
    "# Part 1"
   ]
  },
  {
   "cell_type": "code",
   "execution_count": 7,
   "metadata": {},
   "outputs": [],
   "source": [
    "def size_below(f):\n",
    "    global total\n",
    "    if f.size() <= 100000:\n",
    "        total += f.size()\n",
    "    for s in f.folders:\n",
    "        size_below(s)\n"
   ]
  },
  {
   "cell_type": "code",
   "execution_count": 8,
   "metadata": {},
   "outputs": [
    {
     "name": "stdout",
     "output_type": "stream",
     "text": [
      "1297683\n"
     ]
    }
   ],
   "source": [
    "total = 0\n",
    "size_below(fs.folders[0])\n",
    "print(total)"
   ]
  },
  {
   "cell_type": "markdown",
   "metadata": {},
   "source": [
    "# Part 2"
   ]
  },
  {
   "cell_type": "code",
   "execution_count": 9,
   "metadata": {},
   "outputs": [],
   "source": [
    "total_fs = 70000000\n",
    "target_free = 30000000\n",
    "min_dir_space =  target_free - ( total_fs - fs.size())"
   ]
  },
  {
   "cell_type": "code",
   "execution_count": 10,
   "metadata": {},
   "outputs": [],
   "source": [
    "sizes = []"
   ]
  },
  {
   "cell_type": "code",
   "execution_count": 11,
   "metadata": {},
   "outputs": [],
   "source": [
    "def extract_sizes(f):\n",
    "    global sizes\n",
    "    sizes.append(f.size())\n",
    "    for s in f.folders:\n",
    "        extract_sizes(s)"
   ]
  },
  {
   "cell_type": "code",
   "execution_count": 12,
   "metadata": {},
   "outputs": [],
   "source": [
    "extract_sizes(fs.folders[0])"
   ]
  },
  {
   "cell_type": "code",
   "execution_count": 13,
   "metadata": {},
   "outputs": [],
   "source": [
    "sizes.sort()"
   ]
  },
  {
   "cell_type": "code",
   "execution_count": 14,
   "metadata": {},
   "outputs": [
    {
     "name": "stdout",
     "output_type": "stream",
     "text": [
      "5756764\n"
     ]
    }
   ],
   "source": [
    "for size in sizes:\n",
    "    if size >= min_dir_space:\n",
    "        print(size)\n",
    "        break"
   ]
  }
 ],
 "metadata": {
  "kernelspec": {
   "display_name": "Python 3.10.6 ('venv': venv)",
   "language": "python",
   "name": "python3"
  },
  "language_info": {
   "codemirror_mode": {
    "name": "ipython",
    "version": 3
   },
   "file_extension": ".py",
   "mimetype": "text/x-python",
   "name": "python",
   "nbconvert_exporter": "python",
   "pygments_lexer": "ipython3",
   "version": "3.10.6"
  },
  "orig_nbformat": 4,
  "vscode": {
   "interpreter": {
    "hash": "e10a3e31dceb8787fa5c3d5055963c6c04447b6f1a79a84c00293d32b5a08fc4"
   }
  }
 },
 "nbformat": 4,
 "nbformat_minor": 2
}
