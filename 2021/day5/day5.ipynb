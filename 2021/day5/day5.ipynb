{
 "cells": [
  {
   "cell_type": "code",
   "execution_count": 1,
   "id": "d450e8a8-945a-41f7-8899-714c5bcb8b3f",
   "metadata": {},
   "outputs": [],
   "source": [
    "import numpy as np"
   ]
  },
  {
   "cell_type": "code",
   "execution_count": 2,
   "id": "ec565bce-d1a0-4254-8a0a-9423cf85d6e3",
   "metadata": {},
   "outputs": [],
   "source": [
    "vents = np.zeros(shape=(1000,1000), dtype=np.uint32)"
   ]
  },
  {
   "cell_type": "code",
   "execution_count": 3,
   "id": "db3194fb-ab85-4b39-91d4-e774f03c27c5",
   "metadata": {},
   "outputs": [],
   "source": [
    "lines = [line.rstrip().split(' -> ') for line in open('input.txt', 'r') if line != '\\n']"
   ]
  },
  {
   "cell_type": "code",
   "execution_count": 4,
   "id": "a8ac546f-9371-46f8-b643-6927c0f7fd51",
   "metadata": {},
   "outputs": [],
   "source": [
    "for l in lines:\n",
    "    start = [int(i) for i in l[0].split(',')]\n",
    "    end = [int(i) for i in l[1].split(',')]\n",
    "                \n",
    "    if start[0] == end[0]:\n",
    "        # Horizontal\n",
    "        h = sorted([start[1], end[1]])\n",
    "        vents[start[0], h[0]:h[1]+1] += 1\n",
    "    elif start[1] == end[1]:\n",
    "        # Vertical\n",
    "        v = sorted([start[0], end[0]])\n",
    "        vents[v[0]:v[1]+1, start[1]] += 1\n",
    "    else:\n",
    "        # Diag\n",
    "        dx = int((end[0] - start[0]) / abs(end[0] - start[0]))\n",
    "        dy = int((end[1] - start[1]) / abs(end[1] - start[1]))\n",
    "    \n",
    "        steps = min(abs(end[0] - start[0]), abs(end[1] - start[1]))\n",
    "        \n",
    "        for i in range(steps+1):\n",
    "            x = int(start[0] + dx*i)\n",
    "            y = int(start[1] + dy*i)\n",
    "  \n",
    "            vents[x, y] += 1\n",
    "    #print(vents)"
   ]
  },
  {
   "cell_type": "code",
   "execution_count": 5,
   "id": "a35d2627-42a8-4193-b2d1-4d1894743ec4",
   "metadata": {},
   "outputs": [
    {
     "data": {
      "text/plain": [
       "17013"
      ]
     },
     "execution_count": 5,
     "metadata": {},
     "output_type": "execute_result"
    }
   ],
   "source": [
    "(vents >= 2).sum()"
   ]
  }
 ],
 "metadata": {
  "kernelspec": {
   "display_name": "Python 3 (ipykernel)",
   "language": "python",
   "name": "python3"
  },
  "language_info": {
   "codemirror_mode": {
    "name": "ipython",
    "version": 3
   },
   "file_extension": ".py",
   "mimetype": "text/x-python",
   "name": "python",
   "nbconvert_exporter": "python",
   "pygments_lexer": "ipython3",
   "version": "3.8.10"
  }
 },
 "nbformat": 4,
 "nbformat_minor": 5
}
