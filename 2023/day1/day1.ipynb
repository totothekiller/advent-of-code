{
 "cells": [
  {
   "cell_type": "code",
   "execution_count": 1,
   "metadata": {},
   "outputs": [],
   "source": [
    "import regex as re"
   ]
  },
  {
   "cell_type": "code",
   "execution_count": 2,
   "metadata": {},
   "outputs": [
    {
     "name": "stdout",
     "output_type": "stream",
     "text": [
      "52974\n"
     ]
    }
   ],
   "source": [
    "total=0\n",
    "\n",
    "with open('input.txt') as f:\n",
    "\n",
    "    for line in f.read().splitlines():\n",
    "\n",
    "        digits = re.findall(r'\\d', line)\n",
    "\n",
    "        total += int(\"\" + digits[0] + digits[len(digits) - 1])\n",
    "\n",
    "# Part 1\n",
    "print(total)"
   ]
  },
  {
   "cell_type": "code",
   "execution_count": 3,
   "metadata": {},
   "outputs": [],
   "source": [
    "numbers = {'one': 1,\n",
    " 'two': 2,\n",
    " 'three': 3,\n",
    " 'four': 4,\n",
    " 'five': 5,\n",
    " 'six': 6,\n",
    " 'seven': 7,\n",
    " 'eight': 8,\n",
    " 'nine': 9}"
   ]
  },
  {
   "cell_type": "code",
   "execution_count": 4,
   "metadata": {},
   "outputs": [
    {
     "name": "stdout",
     "output_type": "stream",
     "text": [
      "53340\n"
     ]
    }
   ],
   "source": [
    "total=0\n",
    "\n",
    "with open('input.txt') as f:\n",
    "\n",
    "    for line in f.read().splitlines():\n",
    "\n",
    "        digits = re.findall(r'\\d|one|two|three|four|five|six|seven|eight|nine', line, overlapped=True)\n",
    "\n",
    "        #print(digits)\n",
    "\n",
    "        first = str(numbers.get(digits[0], digits[0]))\n",
    "        last = str(numbers.get(digits[len(digits) - 1], digits[len(digits) - 1]))\n",
    "\n",
    "        #print(first + last)\n",
    "\n",
    "        total += int(\"\" + first + last)\n",
    "\n",
    "# Part 2\n",
    "print(total)"
   ]
  }
 ],
 "metadata": {
  "kernelspec": {
   "display_name": "venv",
   "language": "python",
   "name": "python3"
  },
  "language_info": {
   "codemirror_mode": {
    "name": "ipython",
    "version": 3
   },
   "file_extension": ".py",
   "mimetype": "text/x-python",
   "name": "python",
   "nbconvert_exporter": "python",
   "pygments_lexer": "ipython3",
   "version": "3.10.11"
  }
 },
 "nbformat": 4,
 "nbformat_minor": 2
}
