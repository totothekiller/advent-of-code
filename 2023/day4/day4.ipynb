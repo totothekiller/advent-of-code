{
 "cells": [
  {
   "cell_type": "code",
   "execution_count": 1,
   "metadata": {},
   "outputs": [],
   "source": [
    "from collections import defaultdict"
   ]
  },
  {
   "cell_type": "code",
   "execution_count": 2,
   "metadata": {},
   "outputs": [],
   "source": [
    "with open('input.txt') as f:\n",
    "    lines = f.read().splitlines()"
   ]
  },
  {
   "cell_type": "code",
   "execution_count": 3,
   "metadata": {},
   "outputs": [],
   "source": [
    "total = 0\n",
    "\n",
    "for line in lines:\n",
    "    \n",
    "    parts = line.split(':')\n",
    "\n",
    "    id = int(parts[0].split()[1])\n",
    "    numbers = parts[1].split('|')\n",
    "    \n",
    "    wining_numbers = list(map(int,numbers[0].split()))\n",
    "    my_numbers = list(map(int,numbers[1].split()))\n",
    "\n",
    "    #print(wining_numbers, my_numbers)\n",
    "\n",
    "    my_wining = [n for n in my_numbers if n in wining_numbers]\n",
    "\n",
    "    #print(my_wining)\n",
    "\n",
    "    total += pow(2, len(my_wining) - 1) if len(my_wining) > 0 else 0"
   ]
  },
  {
   "cell_type": "code",
   "execution_count": 4,
   "metadata": {},
   "outputs": [
    {
     "name": "stdout",
     "output_type": "stream",
     "text": [
      "24542\n"
     ]
    }
   ],
   "source": [
    "# Part 1\n",
    "print(total)"
   ]
  }
 ],
 "metadata": {
  "kernelspec": {
   "display_name": "venv",
   "language": "python",
   "name": "python3"
  },
  "language_info": {
   "codemirror_mode": {
    "name": "ipython",
    "version": 3
   },
   "file_extension": ".py",
   "mimetype": "text/x-python",
   "name": "python",
   "nbconvert_exporter": "python",
   "pygments_lexer": "ipython3",
   "version": "3.10.10"
  }
 },
 "nbformat": 4,
 "nbformat_minor": 2
}
