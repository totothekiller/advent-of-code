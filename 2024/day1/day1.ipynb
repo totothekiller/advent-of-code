{
 "cells": [
  {
   "cell_type": "code",
   "execution_count": 1,
   "metadata": {},
   "outputs": [],
   "source": [
    "left = []\n",
    "right = []\n",
    "\n",
    "with open('input.txt') as f:\n",
    "    for line in f.read().splitlines():\n",
    "        parts = line.split('   ')\n",
    "        left.append(int(parts[0]))\n",
    "        right.append(int(parts[1]))"
   ]
  },
  {
   "cell_type": "code",
   "execution_count": 2,
   "metadata": {},
   "outputs": [],
   "source": [
    "assert len(left) == len(right)"
   ]
  },
  {
   "cell_type": "code",
   "execution_count": 3,
   "metadata": {},
   "outputs": [],
   "source": [
    "left.sort()\n",
    "right.sort()"
   ]
  },
  {
   "cell_type": "code",
   "execution_count": 4,
   "metadata": {},
   "outputs": [
    {
     "name": "stdout",
     "output_type": "stream",
     "text": [
      "3574690\n"
     ]
    }
   ],
   "source": [
    "from operator import sub\n",
    "\n",
    "# Part 1\n",
    "print(sum(map(abs, map(sub, left, right))))"
   ]
  },
  {
   "cell_type": "code",
   "execution_count": 5,
   "metadata": {},
   "outputs": [
    {
     "name": "stdout",
     "output_type": "stream",
     "text": [
      "22565391\n"
     ]
    }
   ],
   "source": [
    "similarity = 0\n",
    "for n in left:\n",
    "    similarity += n * right.count(n)\n",
    "# Part 2\n",
    "print(similarity)"
   ]
  }
 ],
 "metadata": {
  "kernelspec": {
   "display_name": "venv",
   "language": "python",
   "name": "python3"
  },
  "language_info": {
   "codemirror_mode": {
    "name": "ipython",
    "version": 3
   },
   "file_extension": ".py",
   "mimetype": "text/x-python",
   "name": "python",
   "nbconvert_exporter": "python",
   "pygments_lexer": "ipython3",
   "version": "3.10.14"
  }
 },
 "nbformat": 4,
 "nbformat_minor": 2
}
