{
 "cells": [
  {
   "cell_type": "markdown",
   "id": "f34f8b04-3eb5-4cc8-b679-345b6467a933",
   "metadata": {},
   "source": [
    "# Part 1"
   ]
  },
  {
   "cell_type": "code",
   "execution_count": 1,
   "id": "2eeaa53b-97c7-40c4-9335-a26f81d9c440",
   "metadata": {},
   "outputs": [],
   "source": [
    "import pandas as pd"
   ]
  },
  {
   "cell_type": "code",
   "execution_count": 2,
   "id": "8cdc4e7d-16f2-46e9-9f02-37348ee2c9ba",
   "metadata": {},
   "outputs": [
    {
     "data": {
      "text/html": [
       "<div>\n",
       "<style scoped>\n",
       "    .dataframe tbody tr th:only-of-type {\n",
       "        vertical-align: middle;\n",
       "    }\n",
       "\n",
       "    .dataframe tbody tr th {\n",
       "        vertical-align: top;\n",
       "    }\n",
       "\n",
       "    .dataframe thead th {\n",
       "        text-align: right;\n",
       "    }\n",
       "</style>\n",
       "<table border=\"1\" class=\"dataframe\">\n",
       "  <thead>\n",
       "    <tr style=\"text-align: right;\">\n",
       "      <th></th>\n",
       "      <th>bit0</th>\n",
       "      <th>bit1</th>\n",
       "      <th>bit2</th>\n",
       "      <th>bit3</th>\n",
       "      <th>bit4</th>\n",
       "      <th>bit5</th>\n",
       "      <th>bit6</th>\n",
       "      <th>bit7</th>\n",
       "      <th>bit8</th>\n",
       "      <th>bit9</th>\n",
       "      <th>bit10</th>\n",
       "      <th>bit11</th>\n",
       "    </tr>\n",
       "  </thead>\n",
       "  <tbody>\n",
       "    <tr>\n",
       "      <th>0</th>\n",
       "      <td>1</td>\n",
       "      <td>1</td>\n",
       "      <td>0</td>\n",
       "      <td>0</td>\n",
       "      <td>0</td>\n",
       "      <td>1</td>\n",
       "      <td>0</td>\n",
       "      <td>1</td>\n",
       "      <td>0</td>\n",
       "      <td>1</td>\n",
       "      <td>1</td>\n",
       "      <td>1</td>\n",
       "    </tr>\n",
       "    <tr>\n",
       "      <th>1</th>\n",
       "      <td>0</td>\n",
       "      <td>1</td>\n",
       "      <td>1</td>\n",
       "      <td>0</td>\n",
       "      <td>1</td>\n",
       "      <td>1</td>\n",
       "      <td>1</td>\n",
       "      <td>1</td>\n",
       "      <td>0</td>\n",
       "      <td>0</td>\n",
       "      <td>1</td>\n",
       "      <td>0</td>\n",
       "    </tr>\n",
       "    <tr>\n",
       "      <th>2</th>\n",
       "      <td>1</td>\n",
       "      <td>1</td>\n",
       "      <td>0</td>\n",
       "      <td>0</td>\n",
       "      <td>1</td>\n",
       "      <td>1</td>\n",
       "      <td>1</td>\n",
       "      <td>1</td>\n",
       "      <td>0</td>\n",
       "      <td>0</td>\n",
       "      <td>1</td>\n",
       "      <td>1</td>\n",
       "    </tr>\n",
       "    <tr>\n",
       "      <th>3</th>\n",
       "      <td>1</td>\n",
       "      <td>0</td>\n",
       "      <td>1</td>\n",
       "      <td>0</td>\n",
       "      <td>0</td>\n",
       "      <td>0</td>\n",
       "      <td>0</td>\n",
       "      <td>1</td>\n",
       "      <td>0</td>\n",
       "      <td>1</td>\n",
       "      <td>1</td>\n",
       "      <td>1</td>\n",
       "    </tr>\n",
       "    <tr>\n",
       "      <th>4</th>\n",
       "      <td>0</td>\n",
       "      <td>1</td>\n",
       "      <td>1</td>\n",
       "      <td>1</td>\n",
       "      <td>0</td>\n",
       "      <td>1</td>\n",
       "      <td>1</td>\n",
       "      <td>0</td>\n",
       "      <td>0</td>\n",
       "      <td>1</td>\n",
       "      <td>0</td>\n",
       "      <td>0</td>\n",
       "    </tr>\n",
       "    <tr>\n",
       "      <th>...</th>\n",
       "      <td>...</td>\n",
       "      <td>...</td>\n",
       "      <td>...</td>\n",
       "      <td>...</td>\n",
       "      <td>...</td>\n",
       "      <td>...</td>\n",
       "      <td>...</td>\n",
       "      <td>...</td>\n",
       "      <td>...</td>\n",
       "      <td>...</td>\n",
       "      <td>...</td>\n",
       "      <td>...</td>\n",
       "    </tr>\n",
       "    <tr>\n",
       "      <th>995</th>\n",
       "      <td>0</td>\n",
       "      <td>1</td>\n",
       "      <td>1</td>\n",
       "      <td>0</td>\n",
       "      <td>1</td>\n",
       "      <td>0</td>\n",
       "      <td>1</td>\n",
       "      <td>0</td>\n",
       "      <td>0</td>\n",
       "      <td>0</td>\n",
       "      <td>0</td>\n",
       "      <td>0</td>\n",
       "    </tr>\n",
       "    <tr>\n",
       "      <th>996</th>\n",
       "      <td>1</td>\n",
       "      <td>1</td>\n",
       "      <td>0</td>\n",
       "      <td>1</td>\n",
       "      <td>0</td>\n",
       "      <td>0</td>\n",
       "      <td>1</td>\n",
       "      <td>1</td>\n",
       "      <td>0</td>\n",
       "      <td>1</td>\n",
       "      <td>1</td>\n",
       "      <td>1</td>\n",
       "    </tr>\n",
       "    <tr>\n",
       "      <th>997</th>\n",
       "      <td>1</td>\n",
       "      <td>0</td>\n",
       "      <td>1</td>\n",
       "      <td>1</td>\n",
       "      <td>0</td>\n",
       "      <td>1</td>\n",
       "      <td>0</td>\n",
       "      <td>0</td>\n",
       "      <td>0</td>\n",
       "      <td>1</td>\n",
       "      <td>0</td>\n",
       "      <td>0</td>\n",
       "    </tr>\n",
       "    <tr>\n",
       "      <th>998</th>\n",
       "      <td>0</td>\n",
       "      <td>0</td>\n",
       "      <td>1</td>\n",
       "      <td>1</td>\n",
       "      <td>1</td>\n",
       "      <td>0</td>\n",
       "      <td>0</td>\n",
       "      <td>0</td>\n",
       "      <td>1</td>\n",
       "      <td>1</td>\n",
       "      <td>0</td>\n",
       "      <td>1</td>\n",
       "    </tr>\n",
       "    <tr>\n",
       "      <th>999</th>\n",
       "      <td>1</td>\n",
       "      <td>1</td>\n",
       "      <td>1</td>\n",
       "      <td>0</td>\n",
       "      <td>0</td>\n",
       "      <td>1</td>\n",
       "      <td>1</td>\n",
       "      <td>0</td>\n",
       "      <td>1</td>\n",
       "      <td>1</td>\n",
       "      <td>1</td>\n",
       "      <td>1</td>\n",
       "    </tr>\n",
       "  </tbody>\n",
       "</table>\n",
       "<p>1000 rows × 12 columns</p>\n",
       "</div>"
      ],
      "text/plain": [
       "     bit0  bit1  bit2  bit3  bit4  bit5  bit6  bit7  bit8  bit9  bit10  bit11\n",
       "0       1     1     0     0     0     1     0     1     0     1      1      1\n",
       "1       0     1     1     0     1     1     1     1     0     0      1      0\n",
       "2       1     1     0     0     1     1     1     1     0     0      1      1\n",
       "3       1     0     1     0     0     0     0     1     0     1      1      1\n",
       "4       0     1     1     1     0     1     1     0     0     1      0      0\n",
       "..    ...   ...   ...   ...   ...   ...   ...   ...   ...   ...    ...    ...\n",
       "995     0     1     1     0     1     0     1     0     0     0      0      0\n",
       "996     1     1     0     1     0     0     1     1     0     1      1      1\n",
       "997     1     0     1     1     0     1     0     0     0     1      0      0\n",
       "998     0     0     1     1     1     0     0     0     1     1      0      1\n",
       "999     1     1     1     0     0     1     1     0     1     1      1      1\n",
       "\n",
       "[1000 rows x 12 columns]"
      ]
     },
     "execution_count": 2,
     "metadata": {},
     "output_type": "execute_result"
    }
   ],
   "source": [
    "df = pd.read_fwf('input.txt', widths=[1,1,1,1,1,1,1,1,1,1,1,1], names=[\"bit0\", \"bit1\", \"bit2\", \"bit3\", \"bit4\", \"bit5\", \"bit6\", \"bit7\", \"bit8\", \"bit9\", \"bit10\", \"bit11\"])\n",
    "df"
   ]
  },
  {
   "cell_type": "code",
   "execution_count": 3,
   "id": "eb20f773-2a3f-46e0-9146-c6e150c25c09",
   "metadata": {},
   "outputs": [],
   "source": [
    "gammaBinary = ''.join(list(map(lambda num: str(num * 1), df.mean() > 0.5)))\n",
    "gamma = int(gammaBinary, 2)"
   ]
  },
  {
   "cell_type": "code",
   "execution_count": 4,
   "id": "1458d833-6274-4a00-bb19-7dfaa2138e94",
   "metadata": {},
   "outputs": [],
   "source": [
    "epsilonBinary = ''.join(list(map(lambda num: str(num * 1), df.mean() < 0.5)))\n",
    "epsilon = int(epsilonBinary, 2)"
   ]
  },
  {
   "cell_type": "code",
   "execution_count": 5,
   "id": "c4181423-6ede-475b-bd98-7acd8678e267",
   "metadata": {},
   "outputs": [
    {
     "data": {
      "text/plain": [
       "2583164"
      ]
     },
     "execution_count": 5,
     "metadata": {},
     "output_type": "execute_result"
    }
   ],
   "source": [
    "gamma*epsilon"
   ]
  },
  {
   "cell_type": "markdown",
   "id": "b82188b4-bef1-4bda-a862-d335975cbd09",
   "metadata": {},
   "source": [
    "# Part 2"
   ]
  },
  {
   "cell_type": "code",
   "execution_count": 6,
   "id": "22747d7d-5a4f-4840-9d9a-69e2005bbdde",
   "metadata": {},
   "outputs": [],
   "source": [
    "def filterOxygen(df, pos):\n",
    "    if df.shape[0] == 1:\n",
    "        return df\n",
    "    \n",
    "    if df.mean(0)[pos] >= 0.5:\n",
    "        bit = 1\n",
    "    else:\n",
    "        bit = 0\n",
    "    \n",
    "    dfFilter = df[ df.iloc[:,pos] == bit ]\n",
    "    \n",
    "    return filterOxygen(dfFilter, pos + 1)"
   ]
  },
  {
   "cell_type": "code",
   "execution_count": 7,
   "id": "3667c346-57d5-4bb3-9ca6-0cec3d635cb2",
   "metadata": {},
   "outputs": [],
   "source": [
    "oxygenBinary = ''.join(map(str, filterOxygen(df, 0).iloc[0, :].values.tolist()))\n",
    "oxygen = int(oxygenBinary, 2)"
   ]
  },
  {
   "cell_type": "code",
   "execution_count": 8,
   "id": "5ba5033e-3025-4b1f-bfe0-f076d79aa74a",
   "metadata": {},
   "outputs": [],
   "source": [
    "def filterCO2(df, pos):\n",
    "    if df.shape[0] == 1:\n",
    "        return df\n",
    "    \n",
    "    if df.mean(0)[pos] >= 0.5:\n",
    "        bit = 0\n",
    "    else:\n",
    "        bit = 1\n",
    "    \n",
    "    dfFilter = df[ df.iloc[:,pos] == bit ]\n",
    "    \n",
    "    return filterCO2(dfFilter, pos + 1)"
   ]
  },
  {
   "cell_type": "code",
   "execution_count": 9,
   "id": "fac5d413-4be6-4c6e-85b3-07672fe158b1",
   "metadata": {},
   "outputs": [],
   "source": [
    "co2Binary = ''.join(map(str, filterCO2(df, 0).iloc[0, :].values.tolist()))\n",
    "co2 = int(co2Binary, 2)"
   ]
  },
  {
   "cell_type": "code",
   "execution_count": 10,
   "id": "c31c8534-02f6-43b5-b50f-1af4d9f338a9",
   "metadata": {},
   "outputs": [
    {
     "data": {
      "text/plain": [
       "2784375"
      ]
     },
     "execution_count": 10,
     "metadata": {},
     "output_type": "execute_result"
    }
   ],
   "source": [
    "oxygen*co2"
   ]
  }
 ],
 "metadata": {
  "kernelspec": {
   "display_name": "Python 3 (ipykernel)",
   "language": "python",
   "name": "python3"
  },
  "language_info": {
   "codemirror_mode": {
    "name": "ipython",
    "version": 3
   },
   "file_extension": ".py",
   "mimetype": "text/x-python",
   "name": "python",
   "nbconvert_exporter": "python",
   "pygments_lexer": "ipython3",
   "version": "3.8.10"
  }
 },
 "nbformat": 4,
 "nbformat_minor": 5
}
